{
 "cells": [
  {
   "cell_type": "code",
   "execution_count": 1,
   "metadata": {},
   "outputs": [],
   "source": [
    "from pandas import pandas as pd\n",
    "from sklearn.model_selection import train_test_split\n",
    "from sklearn.tree import DecisionTreeClassifier\n",
    "from sklearn.metrics import accuracy_score\n",
    "from sklearn.tree import DecisionTreeClassifier, export_graphviz"
   ]
  },
  {
   "cell_type": "code",
   "execution_count": 17,
   "metadata": {},
   "outputs": [
    {
     "name": "stdout",
     "output_type": "stream",
     "text": [
      "              Id       Name  Year Gender  Count\n",
      "0              1       Mary  1880      F   7065\n",
      "1              2       Anna  1880      F   2604\n",
      "2              3       Emma  1880      F   2003\n",
      "3              4  Elizabeth  1880      F   1939\n",
      "4              5     Minnie  1880      F   1746\n",
      "...          ...        ...   ...    ...    ...\n",
      "1825428  1825429     Zykeem  2014      M      5\n",
      "1825429  1825430     Zymeer  2014      M      5\n",
      "1825430  1825431    Zymiere  2014      M      5\n",
      "1825431  1825432      Zyran  2014      M      5\n",
      "1825432  1825433      Zyrin  2014      M      5\n",
      "\n",
      "[1825433 rows x 5 columns]\n",
      "1825433 names in dataset\n",
      "Id        1825433\n",
      "Name      1825433\n",
      "Year      1825433\n",
      "Gender    1825433\n",
      "Count     1825433\n",
      "dtype: int64\n"
     ]
    },
    {
     "data": {
      "text/html": [
       "<div>\n",
       "<style scoped>\n",
       "    .dataframe tbody tr th:only-of-type {\n",
       "        vertical-align: middle;\n",
       "    }\n",
       "\n",
       "    .dataframe tbody tr th {\n",
       "        vertical-align: top;\n",
       "    }\n",
       "\n",
       "    .dataframe thead th {\n",
       "        text-align: right;\n",
       "    }\n",
       "</style>\n",
       "<table border=\"1\" class=\"dataframe\">\n",
       "  <thead>\n",
       "    <tr style=\"text-align: right;\">\n",
       "      <th></th>\n",
       "      <th>Id</th>\n",
       "      <th>Name</th>\n",
       "      <th>Year</th>\n",
       "      <th>Gender</th>\n",
       "      <th>Count</th>\n",
       "    </tr>\n",
       "  </thead>\n",
       "  <tbody>\n",
       "    <tr>\n",
       "      <td>0</td>\n",
       "      <td>1</td>\n",
       "      <td>Mary</td>\n",
       "      <td>1880</td>\n",
       "      <td>F</td>\n",
       "      <td>7065</td>\n",
       "    </tr>\n",
       "    <tr>\n",
       "      <td>1</td>\n",
       "      <td>2</td>\n",
       "      <td>Anna</td>\n",
       "      <td>1880</td>\n",
       "      <td>F</td>\n",
       "      <td>2604</td>\n",
       "    </tr>\n",
       "    <tr>\n",
       "      <td>2</td>\n",
       "      <td>3</td>\n",
       "      <td>Emma</td>\n",
       "      <td>1880</td>\n",
       "      <td>F</td>\n",
       "      <td>2003</td>\n",
       "    </tr>\n",
       "    <tr>\n",
       "      <td>3</td>\n",
       "      <td>4</td>\n",
       "      <td>Elizabeth</td>\n",
       "      <td>1880</td>\n",
       "      <td>F</td>\n",
       "      <td>1939</td>\n",
       "    </tr>\n",
       "    <tr>\n",
       "      <td>4</td>\n",
       "      <td>5</td>\n",
       "      <td>Minnie</td>\n",
       "      <td>1880</td>\n",
       "      <td>F</td>\n",
       "      <td>1746</td>\n",
       "    </tr>\n",
       "  </tbody>\n",
       "</table>\n",
       "</div>"
      ],
      "text/plain": [
       "   Id       Name  Year Gender  Count\n",
       "0   1       Mary  1880      F   7065\n",
       "1   2       Anna  1880      F   2604\n",
       "2   3       Emma  1880      F   2003\n",
       "3   4  Elizabeth  1880      F   1939\n",
       "4   5     Minnie  1880      F   1746"
      ]
     },
     "execution_count": 17,
     "metadata": {},
     "output_type": "execute_result"
    }
   ],
   "source": [
    "df = pd.read_csv('NationalNames.csv')\n",
    "print (df)\n",
    "#print (len(df))\n",
    "print (\"%d names in dataset\" %len(df))\n",
    "\n",
    "print(df.count())\n",
    "\n",
    "df = df.drop_duplicates(subset=\"Name\")\n",
    "df.head()\n",
    "#print(df.shape[0])\n",
    "#print(df.index)"
   ]
  },
  {
   "cell_type": "code",
   "execution_count": 26,
   "metadata": {},
   "outputs": [
    {
     "name": "stdout",
     "output_type": "stream",
     "text": [
      "<bound method Series.count of 0           True\n",
      "1           True\n",
      "2           True\n",
      "3           True\n",
      "4           True\n",
      "           ...  \n",
      "1825414    False\n",
      "1825415    False\n",
      "1825418    False\n",
      "1825419    False\n",
      "1825420    False\n",
      "Name: Gender, Length: 93889, dtype: bool>\n",
      "59930\n",
      "Number of Rows in dataframe which contain F in any column :  59930\n"
     ]
    }
   ],
   "source": [
    "num = (df.Gender=='F')\n",
    "print(num.count)\n",
    "\n",
    "# Get a bool series representing which row satisfies the condition i.e. True for\n",
    "# row in which value of 'Age' column is more than 30\n",
    "Numoffemale = df.apply(lambda x: True if x['Gender'] == 'F' else False , axis=1)\n",
    " \n",
    "# Count number of True in series\n",
    "numOfRows = len(Numoffemale[Numoffemale == True].index)\n",
    " \n",
    "print(numOfRows)\n",
    "\n",
    "seriesObj = df.apply(lambda x: True if 'F' in x['Gender'] else False, axis=1)\n",
    "numOfRows = len(seriesObj[seriesObj == True].index)\n",
    " \n",
    "print('Number of Rows in dataframe which contain F in any column : ', numOfRows)"
   ]
  },
  {
   "cell_type": "code",
   "execution_count": 51,
   "metadata": {},
   "outputs": [
    {
     "ename": "SyntaxError",
     "evalue": "invalid syntax (<ipython-input-51-1f7aaf216e5b>, line 1)",
     "output_type": "error",
     "traceback": [
      "\u001b[1;36m  File \u001b[1;32m\"<ipython-input-51-1f7aaf216e5b>\"\u001b[1;36m, line \u001b[1;32m1\u001b[0m\n\u001b[1;33m    num1 = if(df.Gender=='M')\u001b[0m\n\u001b[1;37m            ^\u001b[0m\n\u001b[1;31mSyntaxError\u001b[0m\u001b[1;31m:\u001b[0m invalid syntax\n"
     ]
    }
   ],
   "source": [
    "num1 = if(df.Gender=='M')\n",
    "        return true\n",
    "num1.count"
   ]
  },
  {
   "cell_type": "code",
   "execution_count": 34,
   "metadata": {},
   "outputs": [],
   "source": [
    "# Check if the name ends in vowel\n",
    "def checkVowelEnd(name):\n",
    "    if name[-1] in \"aeiou\":\n",
    "        return \"Vowel End\"\n",
    "    return \"Consonant End\""
   ]
  },
  {
   "cell_type": "code",
   "execution_count": 35,
   "metadata": {},
   "outputs": [
    {
     "data": {
      "text/html": [
       "<div>\n",
       "<style scoped>\n",
       "    .dataframe tbody tr th:only-of-type {\n",
       "        vertical-align: middle;\n",
       "    }\n",
       "\n",
       "    .dataframe tbody tr th {\n",
       "        vertical-align: top;\n",
       "    }\n",
       "\n",
       "    .dataframe thead th {\n",
       "        text-align: right;\n",
       "    }\n",
       "</style>\n",
       "<table border=\"1\" class=\"dataframe\">\n",
       "  <thead>\n",
       "    <tr style=\"text-align: right;\">\n",
       "      <th></th>\n",
       "      <th>Id</th>\n",
       "      <th>Name</th>\n",
       "      <th>Year</th>\n",
       "      <th>Gender</th>\n",
       "      <th>Count</th>\n",
       "      <th>Vowel/Consonant End</th>\n",
       "    </tr>\n",
       "  </thead>\n",
       "  <tbody>\n",
       "    <tr>\n",
       "      <td>0</td>\n",
       "      <td>1</td>\n",
       "      <td>Mary</td>\n",
       "      <td>1880</td>\n",
       "      <td>F</td>\n",
       "      <td>7065</td>\n",
       "      <td>Consonant End</td>\n",
       "    </tr>\n",
       "    <tr>\n",
       "      <td>1</td>\n",
       "      <td>2</td>\n",
       "      <td>Anna</td>\n",
       "      <td>1880</td>\n",
       "      <td>F</td>\n",
       "      <td>2604</td>\n",
       "      <td>Vowel End</td>\n",
       "    </tr>\n",
       "    <tr>\n",
       "      <td>2</td>\n",
       "      <td>3</td>\n",
       "      <td>Emma</td>\n",
       "      <td>1880</td>\n",
       "      <td>F</td>\n",
       "      <td>2003</td>\n",
       "      <td>Vowel End</td>\n",
       "    </tr>\n",
       "    <tr>\n",
       "      <td>3</td>\n",
       "      <td>4</td>\n",
       "      <td>Elizabeth</td>\n",
       "      <td>1880</td>\n",
       "      <td>F</td>\n",
       "      <td>1939</td>\n",
       "      <td>Consonant End</td>\n",
       "    </tr>\n",
       "    <tr>\n",
       "      <td>4</td>\n",
       "      <td>5</td>\n",
       "      <td>Minnie</td>\n",
       "      <td>1880</td>\n",
       "      <td>F</td>\n",
       "      <td>1746</td>\n",
       "      <td>Vowel End</td>\n",
       "    </tr>\n",
       "  </tbody>\n",
       "</table>\n",
       "</div>"
      ],
      "text/plain": [
       "   Id       Name  Year Gender  Count Vowel/Consonant End\n",
       "0   1       Mary  1880      F   7065       Consonant End\n",
       "1   2       Anna  1880      F   2604           Vowel End\n",
       "2   3       Emma  1880      F   2003           Vowel End\n",
       "3   4  Elizabeth  1880      F   1939       Consonant End\n",
       "4   5     Minnie  1880      F   1746           Vowel End"
      ]
     },
     "execution_count": 35,
     "metadata": {},
     "output_type": "execute_result"
    }
   ],
   "source": [
    "df[\"Vowel/Consonant End\"] = df[\"Name\"].apply(checkVowelEnd)\n",
    "df.head()"
   ]
  },
  {
   "cell_type": "code",
   "execution_count": 42,
   "metadata": {},
   "outputs": [
    {
     "data": {
      "text/plain": [
       "<bound method DataFrame.count of               Id       Name  Year Gender  Count Vowel/Consonant End  \\\n",
       "0              1       Mary  1880      F   7065       Consonant End   \n",
       "1              2       Anna  1880      F   2604           Vowel End   \n",
       "2              3       Emma  1880      F   2003           Vowel End   \n",
       "3              4  Elizabeth  1880      F   1939       Consonant End   \n",
       "4              5     Minnie  1880      F   1746           Vowel End   \n",
       "...          ...        ...   ...    ...    ...                 ...   \n",
       "1825414  1825415     Zichen  2014      M      5       Consonant End   \n",
       "1825415  1825416      Ziden  2014      M      5       Consonant End   \n",
       "1825418  1825419      Zijun  2014      M      5       Consonant End   \n",
       "1825419  1825420      Zilas  2014      M      5       Consonant End   \n",
       "1825420  1825421      Zirui  2014      M      5           Vowel End   \n",
       "\n",
       "         Gender Value  \n",
       "0                   0  \n",
       "1                   0  \n",
       "2                   0  \n",
       "3                   0  \n",
       "4                   0  \n",
       "...               ...  \n",
       "1825414             1  \n",
       "1825415             1  \n",
       "1825418             1  \n",
       "1825419             1  \n",
       "1825420             1  \n",
       "\n",
       "[93889 rows x 7 columns]>"
      ]
     },
     "execution_count": 42,
     "metadata": {},
     "output_type": "execute_result"
    }
   ],
   "source": [
    "def checkGender(gender):\n",
    "    if gender == \"F\":\n",
    "        return 0\n",
    "    else:\n",
    "        return 1\n",
    "    \n",
    "df[\"Gender Value\"] = df[\"Gender\"].apply(checkGender)\n",
    "\n",
    "df.head()\n",
    "df.count"
   ]
  },
  {
   "cell_type": "code",
   "execution_count": 37,
   "metadata": {},
   "outputs": [],
   "source": [
    "#def compare(group):\n",
    "    #return df.groupby([group])[\"Gender Value\"].sum()*100/df.groupby([group])[\"Gender Value\"].count()"
   ]
  },
  {
   "cell_type": "code",
   "execution_count": 39,
   "metadata": {},
   "outputs": [
    {
     "data": {
      "text/plain": [
       "Vowel/Consonant End\n",
       "Consonant End    43635\n",
       "Vowel End        50254\n",
       "Name: Gender Value, dtype: int64"
      ]
     },
     "execution_count": 39,
     "metadata": {},
     "output_type": "execute_result"
    }
   ],
   "source": [
    "df.groupby([\"Vowel/Consonant End\"])['Gender Value'].count()"
   ]
  },
  {
   "cell_type": "code",
   "execution_count": 8,
   "metadata": {},
   "outputs": [
    {
     "name": "stdout",
     "output_type": "stream",
     "text": [
      "1825433\n"
     ]
    }
   ],
   "source": [
    "print (len(df))\n",
    "# > 93889 = 43635 + 50254"
   ]
  },
  {
   "cell_type": "code",
   "execution_count": 9,
   "metadata": {},
   "outputs": [
    {
     "name": "stdout",
     "output_type": "stream",
     "text": [
      "Gender\n",
      "F    1081683\n",
      "M     743750\n",
      "Name: Gender Value, dtype: int64\n",
      "\n",
      "Both are equal? False\n"
     ]
    }
   ],
   "source": [
    "female_names = sum(df.groupby([\"Vowel/Consonant End\"])[\"Gender Value\"].sum())\n",
    "all_names = df.groupby([\"Gender\"])[\"Gender Value\"].count()\n",
    "print (all_names)\n",
    "print (\"\\nBoth are equal? %s\" % str(female_names == all_names[\"F\"]))"
   ]
  },
  {
   "cell_type": "code",
   "execution_count": 10,
   "metadata": {},
   "outputs": [
    {
     "name": "stdout",
     "output_type": "stream",
     "text": [
      "Vowel/Consonant End\n",
      "Consonant End    62.141549\n",
      "Vowel End        21.114304\n",
      "Name: Gender Value, dtype: float64\n"
     ]
    }
   ],
   "source": [
    "print(df.groupby([\"Vowel/Consonant End\"])[\"Gender Value\"].sum()*100/df.groupby([\"Vowel/Consonant End\"])[\"Gender Value\"].count())"
   ]
  },
  {
   "cell_type": "code",
   "execution_count": 11,
   "metadata": {},
   "outputs": [
    {
     "name": "stdout",
     "output_type": "stream",
     "text": [
      "Vowel/Consonant End\n",
      "Consonant End    62.141549\n",
      "Vowel End        21.114304\n",
      "Name: Gender Value, dtype: float64\n"
     ]
    }
   ],
   "source": [
    "print(compare(\"Vowel/Consonant End\"))"
   ]
  },
  {
   "cell_type": "code",
   "execution_count": 12,
   "metadata": {},
   "outputs": [
    {
     "name": "stdout",
     "output_type": "stream",
     "text": [
      "\n",
      " Comparison => %s Vowel/Consonant Start\n",
      "Consonant Start    40.743758\n",
      "Name: Gender Value, dtype: float64\n"
     ]
    },
    {
     "data": {
      "text/html": [
       "<div>\n",
       "<style scoped>\n",
       "    .dataframe tbody tr th:only-of-type {\n",
       "        vertical-align: middle;\n",
       "    }\n",
       "\n",
       "    .dataframe tbody tr th {\n",
       "        vertical-align: top;\n",
       "    }\n",
       "\n",
       "    .dataframe thead th {\n",
       "        text-align: right;\n",
       "    }\n",
       "</style>\n",
       "<table border=\"1\" class=\"dataframe\">\n",
       "  <thead>\n",
       "    <tr style=\"text-align: right;\">\n",
       "      <th></th>\n",
       "      <th>Id</th>\n",
       "      <th>Name</th>\n",
       "      <th>Year</th>\n",
       "      <th>Gender</th>\n",
       "      <th>Count</th>\n",
       "      <th>Vowel/Consonant End</th>\n",
       "      <th>Gender Value</th>\n",
       "      <th>Vowel/Consonant Start</th>\n",
       "    </tr>\n",
       "  </thead>\n",
       "  <tbody>\n",
       "    <tr>\n",
       "      <td>0</td>\n",
       "      <td>1</td>\n",
       "      <td>Mary</td>\n",
       "      <td>1880</td>\n",
       "      <td>F</td>\n",
       "      <td>7065</td>\n",
       "      <td>Consonant End</td>\n",
       "      <td>0</td>\n",
       "      <td>Consonant Start</td>\n",
       "    </tr>\n",
       "    <tr>\n",
       "      <td>1</td>\n",
       "      <td>2</td>\n",
       "      <td>Anna</td>\n",
       "      <td>1880</td>\n",
       "      <td>F</td>\n",
       "      <td>2604</td>\n",
       "      <td>Vowel End</td>\n",
       "      <td>0</td>\n",
       "      <td>Consonant Start</td>\n",
       "    </tr>\n",
       "    <tr>\n",
       "      <td>2</td>\n",
       "      <td>3</td>\n",
       "      <td>Emma</td>\n",
       "      <td>1880</td>\n",
       "      <td>F</td>\n",
       "      <td>2003</td>\n",
       "      <td>Vowel End</td>\n",
       "      <td>0</td>\n",
       "      <td>Consonant Start</td>\n",
       "    </tr>\n",
       "    <tr>\n",
       "      <td>3</td>\n",
       "      <td>4</td>\n",
       "      <td>Elizabeth</td>\n",
       "      <td>1880</td>\n",
       "      <td>F</td>\n",
       "      <td>1939</td>\n",
       "      <td>Consonant End</td>\n",
       "      <td>0</td>\n",
       "      <td>Consonant Start</td>\n",
       "    </tr>\n",
       "    <tr>\n",
       "      <td>4</td>\n",
       "      <td>5</td>\n",
       "      <td>Minnie</td>\n",
       "      <td>1880</td>\n",
       "      <td>F</td>\n",
       "      <td>1746</td>\n",
       "      <td>Vowel End</td>\n",
       "      <td>0</td>\n",
       "      <td>Consonant Start</td>\n",
       "    </tr>\n",
       "  </tbody>\n",
       "</table>\n",
       "</div>"
      ],
      "text/plain": [
       "   Id       Name  Year Gender  Count Vowel/Consonant End  Gender Value  \\\n",
       "0   1       Mary  1880      F   7065       Consonant End             0   \n",
       "1   2       Anna  1880      F   2604           Vowel End             0   \n",
       "2   3       Emma  1880      F   2003           Vowel End             0   \n",
       "3   4  Elizabeth  1880      F   1939       Consonant End             0   \n",
       "4   5     Minnie  1880      F   1746           Vowel End             0   \n",
       "\n",
       "  Vowel/Consonant Start  \n",
       "0       Consonant Start  \n",
       "1       Consonant Start  \n",
       "2       Consonant Start  \n",
       "3       Consonant Start  \n",
       "4       Consonant Start  "
      ]
     },
     "execution_count": 12,
     "metadata": {},
     "output_type": "execute_result"
    }
   ],
   "source": [
    "def vowelConsonantStart(name):\n",
    "    if name[0] in \"aeiou\":\n",
    "        return \"Vowel Start\"\n",
    "    else:\n",
    "        return \"Consonant Start\"\n",
    "\n",
    "df[\"Vowel/Consonant Start\"] = df[\"Name\"].apply(vowelConsonantStart)\n",
    "\n",
    "print(\"\\n Comparison => %s\", compare(\"Vowel/Consonant Start\"))\n",
    "\n",
    "df.head()"
   ]
  },
  {
   "cell_type": "code",
   "execution_count": 13,
   "metadata": {},
   "outputs": [
    {
     "name": "stdout",
     "output_type": "stream",
     "text": [
      "Short/Long Name\n",
      "Long     34.724927\n",
      "Short    44.604605\n",
      "Name: Gender Value, dtype: float64\n"
     ]
    },
    {
     "data": {
      "text/html": [
       "<div>\n",
       "<style scoped>\n",
       "    .dataframe tbody tr th:only-of-type {\n",
       "        vertical-align: middle;\n",
       "    }\n",
       "\n",
       "    .dataframe tbody tr th {\n",
       "        vertical-align: top;\n",
       "    }\n",
       "\n",
       "    .dataframe thead th {\n",
       "        text-align: right;\n",
       "    }\n",
       "</style>\n",
       "<table border=\"1\" class=\"dataframe\">\n",
       "  <thead>\n",
       "    <tr style=\"text-align: right;\">\n",
       "      <th></th>\n",
       "      <th>Id</th>\n",
       "      <th>Name</th>\n",
       "      <th>Year</th>\n",
       "      <th>Gender</th>\n",
       "      <th>Count</th>\n",
       "      <th>Vowel/Consonant End</th>\n",
       "      <th>Gender Value</th>\n",
       "      <th>Vowel/Consonant Start</th>\n",
       "      <th>Short/Long Name</th>\n",
       "    </tr>\n",
       "  </thead>\n",
       "  <tbody>\n",
       "    <tr>\n",
       "      <td>0</td>\n",
       "      <td>1</td>\n",
       "      <td>Mary</td>\n",
       "      <td>1880</td>\n",
       "      <td>F</td>\n",
       "      <td>7065</td>\n",
       "      <td>Consonant End</td>\n",
       "      <td>0</td>\n",
       "      <td>Consonant Start</td>\n",
       "      <td>Short</td>\n",
       "    </tr>\n",
       "    <tr>\n",
       "      <td>1</td>\n",
       "      <td>2</td>\n",
       "      <td>Anna</td>\n",
       "      <td>1880</td>\n",
       "      <td>F</td>\n",
       "      <td>2604</td>\n",
       "      <td>Vowel End</td>\n",
       "      <td>0</td>\n",
       "      <td>Consonant Start</td>\n",
       "      <td>Short</td>\n",
       "    </tr>\n",
       "    <tr>\n",
       "      <td>2</td>\n",
       "      <td>3</td>\n",
       "      <td>Emma</td>\n",
       "      <td>1880</td>\n",
       "      <td>F</td>\n",
       "      <td>2003</td>\n",
       "      <td>Vowel End</td>\n",
       "      <td>0</td>\n",
       "      <td>Consonant Start</td>\n",
       "      <td>Short</td>\n",
       "    </tr>\n",
       "    <tr>\n",
       "      <td>3</td>\n",
       "      <td>4</td>\n",
       "      <td>Elizabeth</td>\n",
       "      <td>1880</td>\n",
       "      <td>F</td>\n",
       "      <td>1939</td>\n",
       "      <td>Consonant End</td>\n",
       "      <td>0</td>\n",
       "      <td>Consonant Start</td>\n",
       "      <td>Long</td>\n",
       "    </tr>\n",
       "    <tr>\n",
       "      <td>4</td>\n",
       "      <td>5</td>\n",
       "      <td>Minnie</td>\n",
       "      <td>1880</td>\n",
       "      <td>F</td>\n",
       "      <td>1746</td>\n",
       "      <td>Vowel End</td>\n",
       "      <td>0</td>\n",
       "      <td>Consonant Start</td>\n",
       "      <td>Short</td>\n",
       "    </tr>\n",
       "  </tbody>\n",
       "</table>\n",
       "</div>"
      ],
      "text/plain": [
       "   Id       Name  Year Gender  Count Vowel/Consonant End  Gender Value  \\\n",
       "0   1       Mary  1880      F   7065       Consonant End             0   \n",
       "1   2       Anna  1880      F   2604           Vowel End             0   \n",
       "2   3       Emma  1880      F   2003           Vowel End             0   \n",
       "3   4  Elizabeth  1880      F   1939       Consonant End             0   \n",
       "4   5     Minnie  1880      F   1746           Vowel End             0   \n",
       "\n",
       "  Vowel/Consonant Start Short/Long Name  \n",
       "0       Consonant Start           Short  \n",
       "1       Consonant Start           Short  \n",
       "2       Consonant Start           Short  \n",
       "3       Consonant Start            Long  \n",
       "4       Consonant Start           Short  "
      ]
     },
     "execution_count": 13,
     "metadata": {},
     "output_type": "execute_result"
    }
   ],
   "source": [
    "def shortLongName(name):\n",
    "    if len(name) < 7:\n",
    "        return \"Short\"\n",
    "    else:\n",
    "        return \"Long\"\n",
    "\n",
    "df[\"Short/Long Name\"] = df[\"Name\"].apply(shortLongName)\n",
    "print(compare(\"Short/Long Name\"))\n",
    "df.head()"
   ]
  },
  {
   "cell_type": "code",
   "execution_count": 14,
   "metadata": {},
   "outputs": [
    {
     "data": {
      "text/html": [
       "<div>\n",
       "<style scoped>\n",
       "    .dataframe tbody tr th:only-of-type {\n",
       "        vertical-align: middle;\n",
       "    }\n",
       "\n",
       "    .dataframe tbody tr th {\n",
       "        vertical-align: top;\n",
       "    }\n",
       "\n",
       "    .dataframe thead th {\n",
       "        text-align: right;\n",
       "    }\n",
       "</style>\n",
       "<table border=\"1\" class=\"dataframe\">\n",
       "  <thead>\n",
       "    <tr style=\"text-align: right;\">\n",
       "      <th></th>\n",
       "      <th>Gender Value</th>\n",
       "      <th>Vowel/Consonant Start</th>\n",
       "      <th>Short/Long Name</th>\n",
       "      <th>Vowel/Consonant End</th>\n",
       "    </tr>\n",
       "  </thead>\n",
       "  <tbody>\n",
       "    <tr>\n",
       "      <td>0</td>\n",
       "      <td>0</td>\n",
       "      <td>Consonant Start</td>\n",
       "      <td>Short</td>\n",
       "      <td>Consonant End</td>\n",
       "    </tr>\n",
       "    <tr>\n",
       "      <td>1</td>\n",
       "      <td>0</td>\n",
       "      <td>Consonant Start</td>\n",
       "      <td>Short</td>\n",
       "      <td>Vowel End</td>\n",
       "    </tr>\n",
       "    <tr>\n",
       "      <td>2</td>\n",
       "      <td>0</td>\n",
       "      <td>Consonant Start</td>\n",
       "      <td>Short</td>\n",
       "      <td>Vowel End</td>\n",
       "    </tr>\n",
       "    <tr>\n",
       "      <td>3</td>\n",
       "      <td>0</td>\n",
       "      <td>Consonant Start</td>\n",
       "      <td>Long</td>\n",
       "      <td>Consonant End</td>\n",
       "    </tr>\n",
       "    <tr>\n",
       "      <td>4</td>\n",
       "      <td>0</td>\n",
       "      <td>Consonant Start</td>\n",
       "      <td>Short</td>\n",
       "      <td>Vowel End</td>\n",
       "    </tr>\n",
       "  </tbody>\n",
       "</table>\n",
       "</div>"
      ],
      "text/plain": [
       "   Gender Value Vowel/Consonant Start Short/Long Name Vowel/Consonant End\n",
       "0             0       Consonant Start           Short       Consonant End\n",
       "1             0       Consonant Start           Short           Vowel End\n",
       "2             0       Consonant Start           Short           Vowel End\n",
       "3             0       Consonant Start            Long       Consonant End\n",
       "4             0       Consonant Start           Short           Vowel End"
      ]
     },
     "execution_count": 14,
     "metadata": {},
     "output_type": "execute_result"
    }
   ],
   "source": [
    "training_data = df[[\"Gender Value\", \"Vowel/Consonant Start\", \"Short/Long Name\", \"Vowel/Consonant End\"]]\n",
    "training_data.head()"
   ]
  },
  {
   "cell_type": "code",
   "execution_count": 15,
   "metadata": {},
   "outputs": [
    {
     "name": "stderr",
     "output_type": "stream",
     "text": [
      "C:\\ProgramData\\Anaconda3\\lib\\site-packages\\pandas\\core\\frame.py:3494: SettingWithCopyWarning: \n",
      "A value is trying to be set on a copy of a slice from a DataFrame.\n",
      "Try using .loc[row_indexer,col_indexer] = value instead\n",
      "\n",
      "See the caveats in the documentation: http://pandas.pydata.org/pandas-docs/stable/user_guide/indexing.html#returning-a-view-versus-a-copy\n",
      "  self[k1] = value[k2]\n"
     ]
    },
    {
     "data": {
      "text/html": [
       "<div>\n",
       "<style scoped>\n",
       "    .dataframe tbody tr th:only-of-type {\n",
       "        vertical-align: middle;\n",
       "    }\n",
       "\n",
       "    .dataframe tbody tr th {\n",
       "        vertical-align: top;\n",
       "    }\n",
       "\n",
       "    .dataframe thead th {\n",
       "        text-align: right;\n",
       "    }\n",
       "</style>\n",
       "<table border=\"1\" class=\"dataframe\">\n",
       "  <thead>\n",
       "    <tr style=\"text-align: right;\">\n",
       "      <th></th>\n",
       "      <th>Gender Value</th>\n",
       "      <th>Vowel/Consonant Start</th>\n",
       "      <th>Short/Long Name</th>\n",
       "      <th>Vowel/Consonant End</th>\n",
       "    </tr>\n",
       "  </thead>\n",
       "  <tbody>\n",
       "    <tr>\n",
       "      <td>0</td>\n",
       "      <td>0</td>\n",
       "      <td>0</td>\n",
       "      <td>1</td>\n",
       "      <td>0</td>\n",
       "    </tr>\n",
       "    <tr>\n",
       "      <td>1</td>\n",
       "      <td>0</td>\n",
       "      <td>0</td>\n",
       "      <td>1</td>\n",
       "      <td>1</td>\n",
       "    </tr>\n",
       "    <tr>\n",
       "      <td>2</td>\n",
       "      <td>0</td>\n",
       "      <td>0</td>\n",
       "      <td>1</td>\n",
       "      <td>1</td>\n",
       "    </tr>\n",
       "    <tr>\n",
       "      <td>3</td>\n",
       "      <td>0</td>\n",
       "      <td>0</td>\n",
       "      <td>0</td>\n",
       "      <td>0</td>\n",
       "    </tr>\n",
       "    <tr>\n",
       "      <td>4</td>\n",
       "      <td>0</td>\n",
       "      <td>0</td>\n",
       "      <td>1</td>\n",
       "      <td>1</td>\n",
       "    </tr>\n",
       "  </tbody>\n",
       "</table>\n",
       "</div>"
      ],
      "text/plain": [
       "   Gender Value  Vowel/Consonant Start  Short/Long Name  Vowel/Consonant End\n",
       "0             0                      0                1                    0\n",
       "1             0                      0                1                    1\n",
       "2             0                      0                1                    1\n",
       "3             0                      0                0                    0\n",
       "4             0                      0                1                    1"
      ]
     },
     "execution_count": 15,
     "metadata": {},
     "output_type": "execute_result"
    }
   ],
   "source": [
    "def reprCategory(column):\n",
    "    column = column.astype(\"category\")\n",
    "    return column.cat.codes\n",
    "    \n",
    "training_data[[\"Vowel/Consonant End\", \"Short/Long Name\", \"Vowel/Consonant Start\"]] = training_data[[\"Vowel/Consonant End\", \"Short/Long Name\", \"Vowel/Consonant Start\"]].apply(reprCategory)\n",
    "\n",
    "training_data.head()"
   ]
  },
  {
   "cell_type": "code",
   "execution_count": 16,
   "metadata": {},
   "outputs": [],
   "source": [
    "train, test = train_test_split(training_data, test_size = 0.20)"
   ]
  },
  {
   "cell_type": "code",
   "execution_count": 17,
   "metadata": {},
   "outputs": [],
   "source": [
    "clf = DecisionTreeClassifier()"
   ]
  },
  {
   "cell_type": "code",
   "execution_count": 18,
   "metadata": {},
   "outputs": [],
   "source": [
    "clf = clf.fit(train[[\"Vowel/Consonant End\", \"Short/Long Name\", \"Vowel/Consonant Start\"]], train[\"Gender Value\"])"
   ]
  },
  {
   "cell_type": "code",
   "execution_count": 19,
   "metadata": {},
   "outputs": [
    {
     "data": {
      "text/plain": [
       "DecisionTreeClassifier(class_weight=None, criterion='gini', max_depth=None,\n",
       "                       max_features=None, max_leaf_nodes=None,\n",
       "                       min_impurity_decrease=0.0, min_impurity_split=None,\n",
       "                       min_samples_leaf=1, min_samples_split=2,\n",
       "                       min_weight_fraction_leaf=0.0, presort=False,\n",
       "                       random_state=None, splitter='best')"
      ]
     },
     "execution_count": 19,
     "metadata": {},
     "output_type": "execute_result"
    }
   ],
   "source": [
    "clf"
   ]
  },
  {
   "cell_type": "code",
   "execution_count": 20,
   "metadata": {},
   "outputs": [
    {
     "data": {
      "text/plain": [
       "array([0.97204324, 0.02795676, 0.        ])"
      ]
     },
     "execution_count": 20,
     "metadata": {},
     "output_type": "execute_result"
    }
   ],
   "source": [
    "clf.feature_importances_"
   ]
  },
  {
   "cell_type": "code",
   "execution_count": 21,
   "metadata": {},
   "outputs": [
    {
     "data": {
      "text/plain": [
       "0.7109072632002783"
      ]
     },
     "execution_count": 21,
     "metadata": {},
     "output_type": "execute_result"
    }
   ],
   "source": [
    "predictions = clf.predict(test[[\"Vowel/Consonant End\", \"Short/Long Name\", \"Vowel/Consonant Start\"]])\n",
    "accuracy_score(test[\"Gender Value\"], predictions)"
   ]
  },
  {
   "cell_type": "code",
   "execution_count": 22,
   "metadata": {},
   "outputs": [],
   "source": [
    "with open(\"decidenames.dot\", \"w\") as dot_file:\n",
    "    dot_file = export_graphviz(clf,\n",
    "                            feature_names=[\"Vowel/Consonant End\", \"Short/Long Name\", \"Vowel/Consonant Start\"], out_file=dot_file)"
   ]
  },
  {
   "cell_type": "code",
   "execution_count": null,
   "metadata": {},
   "outputs": [],
   "source": []
  }
 ],
 "metadata": {
  "kernelspec": {
   "display_name": "Python 3",
   "language": "python",
   "name": "python3"
  },
  "language_info": {
   "codemirror_mode": {
    "name": "ipython",
    "version": 3
   },
   "file_extension": ".py",
   "mimetype": "text/x-python",
   "name": "python",
   "nbconvert_exporter": "python",
   "pygments_lexer": "ipython3",
   "version": "3.7.4"
  }
 },
 "nbformat": 4,
 "nbformat_minor": 2
}
