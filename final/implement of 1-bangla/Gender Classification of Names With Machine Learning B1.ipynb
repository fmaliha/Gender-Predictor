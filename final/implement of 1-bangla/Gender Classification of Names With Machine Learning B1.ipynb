{
 "cells": [
  {
   "cell_type": "code",
   "execution_count": 1,
   "metadata": {},
   "outputs": [],
   "source": [
    "from pandas import pandas as pd\n",
    "from sklearn.model_selection import train_test_split\n",
    "from sklearn.tree import DecisionTreeClassifier\n",
    "from sklearn.metrics import accuracy_score\n",
    "from sklearn.tree import DecisionTreeClassifier, export_graphviz\n",
    "from sklearn.feature_extraction.text import CountVectorizer\n",
    "from sklearn.feature_extraction import DictVectorizer"
   ]
  },
  {
   "cell_type": "code",
   "execution_count": 2,
   "metadata": {},
   "outputs": [
    {
     "name": "stdout",
     "output_type": "stream",
     "text": [
      "1369 names in dataset\n"
     ]
    },
    {
     "data": {
      "text/html": [
       "<div>\n",
       "<style scoped>\n",
       "    .dataframe tbody tr th:only-of-type {\n",
       "        vertical-align: middle;\n",
       "    }\n",
       "\n",
       "    .dataframe tbody tr th {\n",
       "        vertical-align: top;\n",
       "    }\n",
       "\n",
       "    .dataframe thead th {\n",
       "        text-align: right;\n",
       "    }\n",
       "</style>\n",
       "<table border=\"1\" class=\"dataframe\">\n",
       "  <thead>\n",
       "    <tr style=\"text-align: right;\">\n",
       "      <th></th>\n",
       "      <th>Id</th>\n",
       "      <th>Name</th>\n",
       "      <th>Gender</th>\n",
       "    </tr>\n",
       "  </thead>\n",
       "  <tbody>\n",
       "    <tr>\n",
       "      <td>0</td>\n",
       "      <td>0</td>\n",
       "      <td>fairuz</td>\n",
       "      <td>female</td>\n",
       "    </tr>\n",
       "    <tr>\n",
       "      <td>1</td>\n",
       "      <td>1</td>\n",
       "      <td>maliha</td>\n",
       "      <td>female</td>\n",
       "    </tr>\n",
       "    <tr>\n",
       "      <td>2</td>\n",
       "      <td>2</td>\n",
       "      <td>mehedi</td>\n",
       "      <td>male</td>\n",
       "    </tr>\n",
       "    <tr>\n",
       "      <td>3</td>\n",
       "      <td>3</td>\n",
       "      <td>sohan</td>\n",
       "      <td>male</td>\n",
       "    </tr>\n",
       "    <tr>\n",
       "      <td>4</td>\n",
       "      <td>4</td>\n",
       "      <td>shatil</td>\n",
       "      <td>male</td>\n",
       "    </tr>\n",
       "    <tr>\n",
       "      <td>5</td>\n",
       "      <td>5</td>\n",
       "      <td>akid</td>\n",
       "      <td>male</td>\n",
       "    </tr>\n",
       "    <tr>\n",
       "      <td>6</td>\n",
       "      <td>6</td>\n",
       "      <td>samia</td>\n",
       "      <td>female</td>\n",
       "    </tr>\n",
       "    <tr>\n",
       "      <td>7</td>\n",
       "      <td>7</td>\n",
       "      <td>tanvir</td>\n",
       "      <td>male</td>\n",
       "    </tr>\n",
       "    <tr>\n",
       "      <td>8</td>\n",
       "      <td>8</td>\n",
       "      <td>mobusshar</td>\n",
       "      <td>male</td>\n",
       "    </tr>\n",
       "    <tr>\n",
       "      <td>9</td>\n",
       "      <td>9</td>\n",
       "      <td>muqeet</td>\n",
       "      <td>male</td>\n",
       "    </tr>\n",
       "    <tr>\n",
       "      <td>10</td>\n",
       "      <td>10</td>\n",
       "      <td>ryan</td>\n",
       "      <td>male</td>\n",
       "    </tr>\n",
       "    <tr>\n",
       "      <td>11</td>\n",
       "      <td>11</td>\n",
       "      <td>ovi</td>\n",
       "      <td>male</td>\n",
       "    </tr>\n",
       "    <tr>\n",
       "      <td>12</td>\n",
       "      <td>12</td>\n",
       "      <td>afsar</td>\n",
       "      <td>male</td>\n",
       "    </tr>\n",
       "    <tr>\n",
       "      <td>13</td>\n",
       "      <td>13</td>\n",
       "      <td>fahman</td>\n",
       "      <td>male</td>\n",
       "    </tr>\n",
       "    <tr>\n",
       "      <td>14</td>\n",
       "      <td>14</td>\n",
       "      <td>faisal</td>\n",
       "      <td>male</td>\n",
       "    </tr>\n",
       "    <tr>\n",
       "      <td>15</td>\n",
       "      <td>15</td>\n",
       "      <td>salman</td>\n",
       "      <td>male</td>\n",
       "    </tr>\n",
       "    <tr>\n",
       "      <td>16</td>\n",
       "      <td>16</td>\n",
       "      <td>khaja</td>\n",
       "      <td>male</td>\n",
       "    </tr>\n",
       "    <tr>\n",
       "      <td>17</td>\n",
       "      <td>17</td>\n",
       "      <td>arith</td>\n",
       "      <td>male</td>\n",
       "    </tr>\n",
       "    <tr>\n",
       "      <td>18</td>\n",
       "      <td>18</td>\n",
       "      <td>eashan</td>\n",
       "      <td>male</td>\n",
       "    </tr>\n",
       "    <tr>\n",
       "      <td>19</td>\n",
       "      <td>19</td>\n",
       "      <td>fahim</td>\n",
       "      <td>male</td>\n",
       "    </tr>\n",
       "  </tbody>\n",
       "</table>\n",
       "</div>"
      ],
      "text/plain": [
       "    Id       Name  Gender\n",
       "0    0     fairuz  female\n",
       "1    1     maliha  female\n",
       "2    2     mehedi    male\n",
       "3    3      sohan    male\n",
       "4    4     shatil    male\n",
       "5    5       akid    male\n",
       "6    6      samia  female\n",
       "7    7     tanvir    male\n",
       "8    8  mobusshar    male\n",
       "9    9     muqeet    male\n",
       "10  10       ryan    male\n",
       "11  11        ovi    male\n",
       "12  12      afsar    male\n",
       "13  13     fahman    male\n",
       "14  14     faisal    male\n",
       "15  15     salman    male\n",
       "16  16      khaja    male\n",
       "17  17      arith    male\n",
       "18  18     eashan    male\n",
       "19  19      fahim    male"
      ]
     },
     "execution_count": 2,
     "metadata": {},
     "output_type": "execute_result"
    }
   ],
   "source": [
    "df = pd.read_csv('BanglaNames.csv')\n",
    "print (\"%d names in dataset\" %len(df))\n",
    "df = df.drop_duplicates(subset=\"Name\")\n",
    "df.head(20)"
   ]
  },
  {
   "cell_type": "code",
   "execution_count": 3,
   "metadata": {},
   "outputs": [
    {
     "name": "stdout",
     "output_type": "stream",
     "text": [
      "Id        573\n",
      "Name      573\n",
      "Gender    573\n",
      "dtype: int64\n"
     ]
    }
   ],
   "source": [
    "print (df[df.Gender == 'female'].count())"
   ]
  },
  {
   "cell_type": "code",
   "execution_count": 4,
   "metadata": {},
   "outputs": [
    {
     "name": "stdout",
     "output_type": "stream",
     "text": [
      "Id        436\n",
      "Name      436\n",
      "Gender    436\n",
      "dtype: int64\n"
     ]
    }
   ],
   "source": [
    "print (df[df.Gender == 'male'].count())"
   ]
  },
  {
   "cell_type": "code",
   "execution_count": 5,
   "metadata": {},
   "outputs": [],
   "source": [
    "Xfeatures =df['Name']\n",
    "cv = CountVectorizer()\n",
    "X = cv.fit_transform(Xfeatures)\n",
    "# Labels\n",
    "y = df.Gender"
   ]
  },
  {
   "cell_type": "code",
   "execution_count": 6,
   "metadata": {},
   "outputs": [],
   "source": [
    "X_train, X_test, y_train, y_test = train_test_split(X, y, test_size=0.20)"
   ]
  },
  {
   "cell_type": "code",
   "execution_count": 7,
   "metadata": {},
   "outputs": [
    {
     "data": {
      "text/plain": [
       "MultinomialNB(alpha=1.0, class_prior=None, fit_prior=True)"
      ]
     },
     "execution_count": 7,
     "metadata": {},
     "output_type": "execute_result"
    }
   ],
   "source": [
    "# Naive Bayes Classifier\n",
    "from sklearn.naive_bayes import MultinomialNB\n",
    "clfNB = MultinomialNB()\n",
    "clfNB.fit(X_train,y_train)\n",
    "\n"
   ]
  },
  {
   "cell_type": "code",
   "execution_count": 8,
   "metadata": {},
   "outputs": [
    {
     "data": {
      "text/plain": [
       "1.0"
      ]
     },
     "execution_count": 8,
     "metadata": {},
     "output_type": "execute_result"
    }
   ],
   "source": [
    "clfNB.score(X_train,y_train)"
   ]
  },
  {
   "cell_type": "code",
   "execution_count": 9,
   "metadata": {},
   "outputs": [
    {
     "data": {
      "text/plain": [
       "0.5792079207920792"
      ]
     },
     "execution_count": 9,
     "metadata": {},
     "output_type": "execute_result"
    }
   ],
   "source": [
    "clfNB.score(X_test,y_test)"
   ]
  },
  {
   "cell_type": "code",
   "execution_count": 10,
   "metadata": {},
   "outputs": [
    {
     "data": {
      "text/plain": [
       "MultinomialNB(alpha=1.0, class_prior=None, fit_prior=True)"
      ]
     },
     "execution_count": 10,
     "metadata": {},
     "output_type": "execute_result"
    }
   ],
   "source": [
    "clfNB"
   ]
  },
  {
   "cell_type": "code",
   "execution_count": 11,
   "metadata": {},
   "outputs": [],
   "source": [
    "# Check if the name ends in vowel\n",
    "def checkVowelEnd(name):\n",
    "    if name[-1] in \"aeiou\":\n",
    "        return \"Vowel End\"\n",
    "    else:\n",
    "        return \"Consonant End\""
   ]
  },
  {
   "cell_type": "code",
   "execution_count": 15,
   "metadata": {},
   "outputs": [
    {
     "data": {
      "text/html": [
       "<div>\n",
       "<style scoped>\n",
       "    .dataframe tbody tr th:only-of-type {\n",
       "        vertical-align: middle;\n",
       "    }\n",
       "\n",
       "    .dataframe tbody tr th {\n",
       "        vertical-align: top;\n",
       "    }\n",
       "\n",
       "    .dataframe thead th {\n",
       "        text-align: right;\n",
       "    }\n",
       "</style>\n",
       "<table border=\"1\" class=\"dataframe\">\n",
       "  <thead>\n",
       "    <tr style=\"text-align: right;\">\n",
       "      <th></th>\n",
       "      <th>Id</th>\n",
       "      <th>Name</th>\n",
       "      <th>Gender</th>\n",
       "      <th>Gender Value</th>\n",
       "      <th>Vowel/Consonant End</th>\n",
       "    </tr>\n",
       "  </thead>\n",
       "  <tbody>\n",
       "    <tr>\n",
       "      <td>0</td>\n",
       "      <td>0</td>\n",
       "      <td>fairuz</td>\n",
       "      <td>female</td>\n",
       "      <td>0</td>\n",
       "      <td>Consonant End</td>\n",
       "    </tr>\n",
       "    <tr>\n",
       "      <td>1</td>\n",
       "      <td>1</td>\n",
       "      <td>maliha</td>\n",
       "      <td>female</td>\n",
       "      <td>0</td>\n",
       "      <td>Vowel End</td>\n",
       "    </tr>\n",
       "    <tr>\n",
       "      <td>2</td>\n",
       "      <td>2</td>\n",
       "      <td>mehedi</td>\n",
       "      <td>male</td>\n",
       "      <td>1</td>\n",
       "      <td>Vowel End</td>\n",
       "    </tr>\n",
       "    <tr>\n",
       "      <td>3</td>\n",
       "      <td>3</td>\n",
       "      <td>sohan</td>\n",
       "      <td>male</td>\n",
       "      <td>1</td>\n",
       "      <td>Consonant End</td>\n",
       "    </tr>\n",
       "    <tr>\n",
       "      <td>4</td>\n",
       "      <td>4</td>\n",
       "      <td>shatil</td>\n",
       "      <td>male</td>\n",
       "      <td>1</td>\n",
       "      <td>Consonant End</td>\n",
       "    </tr>\n",
       "  </tbody>\n",
       "</table>\n",
       "</div>"
      ],
      "text/plain": [
       "   Id    Name  Gender  Gender Value Vowel/Consonant End\n",
       "0   0  fairuz  female             0       Consonant End\n",
       "1   1  maliha  female             0           Vowel End\n",
       "2   2  mehedi    male             1           Vowel End\n",
       "3   3   sohan    male             1       Consonant End\n",
       "4   4  shatil    male             1       Consonant End"
      ]
     },
     "execution_count": 15,
     "metadata": {},
     "output_type": "execute_result"
    }
   ],
   "source": [
    "df[\"Vowel/Consonant End\"] = df[\"Name\"].apply(checkVowelEnd)\n",
    "df.head()"
   ]
  },
  {
   "cell_type": "code",
   "execution_count": 16,
   "metadata": {},
   "outputs": [
    {
     "data": {
      "text/html": [
       "<div>\n",
       "<style scoped>\n",
       "    .dataframe tbody tr th:only-of-type {\n",
       "        vertical-align: middle;\n",
       "    }\n",
       "\n",
       "    .dataframe tbody tr th {\n",
       "        vertical-align: top;\n",
       "    }\n",
       "\n",
       "    .dataframe thead th {\n",
       "        text-align: right;\n",
       "    }\n",
       "</style>\n",
       "<table border=\"1\" class=\"dataframe\">\n",
       "  <thead>\n",
       "    <tr style=\"text-align: right;\">\n",
       "      <th></th>\n",
       "      <th>Id</th>\n",
       "      <th>Name</th>\n",
       "      <th>Gender</th>\n",
       "      <th>Gender Value</th>\n",
       "      <th>Vowel/Consonant End</th>\n",
       "    </tr>\n",
       "  </thead>\n",
       "  <tbody>\n",
       "    <tr>\n",
       "      <td>0</td>\n",
       "      <td>0</td>\n",
       "      <td>fairuz</td>\n",
       "      <td>female</td>\n",
       "      <td>0</td>\n",
       "      <td>Consonant End</td>\n",
       "    </tr>\n",
       "    <tr>\n",
       "      <td>1</td>\n",
       "      <td>1</td>\n",
       "      <td>maliha</td>\n",
       "      <td>female</td>\n",
       "      <td>0</td>\n",
       "      <td>Vowel End</td>\n",
       "    </tr>\n",
       "    <tr>\n",
       "      <td>2</td>\n",
       "      <td>2</td>\n",
       "      <td>mehedi</td>\n",
       "      <td>male</td>\n",
       "      <td>1</td>\n",
       "      <td>Vowel End</td>\n",
       "    </tr>\n",
       "    <tr>\n",
       "      <td>3</td>\n",
       "      <td>3</td>\n",
       "      <td>sohan</td>\n",
       "      <td>male</td>\n",
       "      <td>1</td>\n",
       "      <td>Consonant End</td>\n",
       "    </tr>\n",
       "    <tr>\n",
       "      <td>4</td>\n",
       "      <td>4</td>\n",
       "      <td>shatil</td>\n",
       "      <td>male</td>\n",
       "      <td>1</td>\n",
       "      <td>Consonant End</td>\n",
       "    </tr>\n",
       "  </tbody>\n",
       "</table>\n",
       "</div>"
      ],
      "text/plain": [
       "   Id    Name  Gender  Gender Value Vowel/Consonant End\n",
       "0   0  fairuz  female             0       Consonant End\n",
       "1   1  maliha  female             0           Vowel End\n",
       "2   2  mehedi    male             1           Vowel End\n",
       "3   3   sohan    male             1       Consonant End\n",
       "4   4  shatil    male             1       Consonant End"
      ]
     },
     "execution_count": 16,
     "metadata": {},
     "output_type": "execute_result"
    }
   ],
   "source": [
    "def checkGender(gender):\n",
    "    if gender == \"female\":\n",
    "        return 0\n",
    "    else:\n",
    "        return 1\n",
    "    \n",
    "df[\"Gender Value\"] = df[\"Gender\"].apply(checkGender)\n",
    "\n",
    "df.head()"
   ]
  },
  {
   "cell_type": "code",
   "execution_count": 18,
   "metadata": {},
   "outputs": [],
   "source": [
    "def compare(group):\n",
    "    return df.groupby([group])[\"Gender Value\"].sum()*100/df.groupby([group])[\"Gender Value\"].count()"
   ]
  },
  {
   "cell_type": "code",
   "execution_count": 19,
   "metadata": {},
   "outputs": [
    {
     "data": {
      "text/plain": [
       "Vowel/Consonant End  Gender Value\n",
       "Consonant End        0               186\n",
       "                     1               376\n",
       "Vowel End            0               387\n",
       "                     1                60\n",
       "dtype: int64"
      ]
     },
     "execution_count": 19,
     "metadata": {},
     "output_type": "execute_result"
    }
   ],
   "source": [
    "df.groupby([\"Vowel/Consonant End\"])['Gender Value'].count()\n",
    "df.groupby(['Vowel/Consonant End','Gender Value']).size()"
   ]
  },
  {
   "cell_type": "code",
   "execution_count": 21,
   "metadata": {},
   "outputs": [
    {
     "data": {
      "image/png": "[encoded data removed]",
      "text/plain": [
       "<Figure size 432x288 with 1 Axes>"
      ]
     },
     "metadata": {
      "needs_background": "light"
     },
     "output_type": "display_data"
    }
   ],
   "source": [
    "import numpy as np\n",
    "import matplotlib.pyplot as plt\n",
    "\n",
    "N = 2\n",
    "womenMeans = (448,215)\n",
    "MenMeans = (69,436)\n",
    "menStd = (2, 3)\n",
    "womenStd = (6, 3)\n",
    "ind = np.arange(N)    # the x locations for the groups\n",
    "width = 0.35       # the width of the bars: can also be len(x) sequence\n",
    "\n",
    "p1 = plt.bar(ind, MenMeans, width, yerr=menStd)\n",
    "p2 = plt.bar(ind, womenMeans, width,bottom=MenMeans, yerr=womenStd)\n",
    "\n",
    "plt.ylabel('Scores')\n",
    "plt.title('Scores by Vowel/cConsonant End and Gender')\n",
    "plt.xticks(ind, ('Vowel End', 'Consonant End'))\n",
    "#plt.yticks(np.arange(0, 81, 10))\n",
    "plt.legend((p1[0], p2[0]), ('Men', 'Women'))\n",
    "\n",
    "plt.show()"
   ]
  },
  {
   "cell_type": "code",
   "execution_count": 22,
   "metadata": {},
   "outputs": [
    {
     "name": "stdout",
     "output_type": "stream",
     "text": [
      "1009\n"
     ]
    }
   ],
   "source": [
    "print (len(df))\n",
    "# > 93889 = 43635 + 50254"
   ]
  },
  {
   "cell_type": "code",
   "execution_count": 23,
   "metadata": {},
   "outputs": [
    {
     "name": "stdout",
     "output_type": "stream",
     "text": [
      "Gender\n",
      "female    573\n",
      "male      436\n",
      "Name: Gender Value, dtype: int64\n",
      "\n",
      "Both are equal? False\n"
     ]
    }
   ],
   "source": [
    "female_names = sum(df.groupby([\"Vowel/Consonant End\"])[\"Gender Value\"].sum())\n",
    "all_names = df.groupby([\"Gender\"])[\"Gender Value\"].count()\n",
    "print (all_names)\n",
    "print (\"\\nBoth are equal? %s\" % str(female_names == all_names[\"female\"]))"
   ]
  },
  {
   "cell_type": "code",
   "execution_count": 24,
   "metadata": {},
   "outputs": [
    {
     "name": "stdout",
     "output_type": "stream",
     "text": [
      "Vowel/Consonant End\n",
      "Consonant End    66.903915\n",
      "Vowel End        13.422819\n",
      "Name: Gender Value, dtype: float64\n"
     ]
    }
   ],
   "source": [
    "print(df.groupby([\"Vowel/Consonant End\"])[\"Gender Value\"].sum()*100/df.groupby([\"Vowel/Consonant End\"])[\"Gender Value\"].count())"
   ]
  },
  {
   "cell_type": "code",
   "execution_count": 25,
   "metadata": {},
   "outputs": [
    {
     "name": "stdout",
     "output_type": "stream",
     "text": [
      "Vowel/Consonant End\n",
      "Consonant End    66.903915\n",
      "Vowel End        13.422819\n",
      "Name: Gender Value, dtype: float64\n"
     ]
    }
   ],
   "source": [
    "print(compare(\"Vowel/Consonant End\"))"
   ]
  },
  {
   "cell_type": "code",
   "execution_count": 26,
   "metadata": {},
   "outputs": [
    {
     "data": {
      "text/plain": [
       "Vowel/Consonant Start  Gender Value\n",
       "Consonant Start        0               476\n",
       "                       1               331\n",
       "Vowel Start            0                97\n",
       "                       1               105\n",
       "dtype: int64"
      ]
     },
     "execution_count": 26,
     "metadata": {},
     "output_type": "execute_result"
    }
   ],
   "source": [
    "def vowelConsonantStart(name):\n",
    "    if name[0] in \"aeiou\":\n",
    "        return \"Vowel Start\"\n",
    "    else:\n",
    "        return \"Consonant Start\"\n",
    "\n",
    "df[\"Vowel/Consonant Start\"] = df[\"Name\"].apply(vowelConsonantStart)\n",
    "df.groupby(['Vowel/Consonant Start','Gender Value']).size()\n",
    "#print(\"\\n Comparison => %s\", compare(\"Vowel/Consonant Start\"))\n",
    "\n",
    "#df.head()"
   ]
  },
  {
   "cell_type": "code",
   "execution_count": 28,
   "metadata": {},
   "outputs": [
    {
     "data": {
      "image/png": "[encoded data removed]",
      "text/plain": [
       "<Figure size 432x288 with 1 Axes>"
      ]
     },
     "metadata": {
      "needs_background": "light"
     },
     "output_type": "display_data"
    }
   ],
   "source": [
    "import numpy as np\n",
    "import matplotlib.pyplot as plt\n",
    "\n",
    "N = 2\n",
    "womenMeans = (112,552)\n",
    "MenMeans = (122,383)\n",
    "menStd = (2, 3)\n",
    "womenStd = (6, 3)\n",
    "ind = np.arange(N)    # the x locations for the groups\n",
    "width = 0.35       # the width of the bars: can also be len(x) sequence\n",
    "\n",
    "p1 = plt.bar(ind, MenMeans, width, yerr=menStd)\n",
    "p2 = plt.bar(ind, womenMeans, width,bottom=MenMeans, yerr=womenStd)\n",
    "\n",
    "plt.ylabel('Scores')\n",
    "plt.title('Scores by Vowel/Consonant Start and Gender')\n",
    "plt.xticks(ind, ('Vowel Start', 'Consonant Start'))\n",
    "#plt.yticks(np.arange(0, 81, 10))\n",
    "plt.legend((p1[0], p2[0]), ('Men', 'Women'))\n",
    "\n",
    "plt.show()"
   ]
  },
  {
   "cell_type": "code",
   "execution_count": 29,
   "metadata": {
    "scrolled": false
   },
   "outputs": [
    {
     "data": {
      "text/plain": [
       "Short/Long Name  Gender Value\n",
       "Long             0               349\n",
       "                 1               226\n",
       "Short            0               224\n",
       "                 1               210\n",
       "dtype: int64"
      ]
     },
     "execution_count": 29,
     "metadata": {},
     "output_type": "execute_result"
    }
   ],
   "source": [
    "def shortLongName(name):\n",
    "    if len(name) < 6:\n",
    "        return \"Short\"\n",
    "    else:\n",
    "        return \"Long\"\n",
    "\n",
    "df[\"Short/Long Name\"] = df[\"Name\"].apply(shortLongName)\n",
    "df.groupby(['Short/Long Name','Gender Value']).size()\n",
    "#print(compare(\"Short/Long Name\"))\n",
    "#df.head(20)"
   ]
  },
  {
   "cell_type": "code",
   "execution_count": 31,
   "metadata": {},
   "outputs": [
    {
     "data": {
      "image/png": "[encoded data removed]",
      "text/plain": [
       "<Figure size 432x288 with 1 Axes>"
      ]
     },
     "metadata": {
      "needs_background": "light"
     },
     "output_type": "display_data"
    }
   ],
   "source": [
    "import numpy as np\n",
    "import matplotlib.pyplot as plt\n",
    "\n",
    "N = 2\n",
    "womenMeans = (260,404)\n",
    "MenMeans = (243,261)\n",
    "menStd = (2, 3)\n",
    "womenStd = (6, 3)\n",
    "ind = np.arange(N)    # the x locations for the groups\n",
    "width = 0.35       # the width of the bars: can also be len(x) sequence\n",
    "\n",
    "p1 = plt.bar(ind, MenMeans, width, yerr=menStd)\n",
    "p2 = plt.bar(ind, womenMeans, width,bottom=MenMeans, yerr=womenStd)\n",
    "\n",
    "plt.ylabel('Scores')\n",
    "plt.title('Scores by Short/Long Name and Gender')\n",
    "plt.xticks(ind, ('Short', 'Long'))\n",
    "#plt.yticks(np.arange(0, 81, 10))\n",
    "plt.legend((p1[0], p2[0]), ('Men', 'Women'))\n",
    "\n",
    "plt.show()"
   ]
  },
  {
   "cell_type": "code",
   "execution_count": 32,
   "metadata": {},
   "outputs": [],
   "source": [
    "# By Analogy most female names ends in 'A' or 'E' or has the sound of 'A'\n",
    "def features(name):\n",
    "    name = name.lower()\n",
    "    return {\n",
    "        'first-letter'  : name[0], # First letter\n",
    "        'first2-letters': name[0:2], # First 2 letters\n",
    "        'first3-letters': name[0:3], # First 3 letters\n",
    "        'last-letter'   : name[-1],\n",
    "        'last2-letters' : name[-2:],\n",
    "        'last3-letters' : name[-3:],\n",
    "    }"
   ]
  },
  {
   "cell_type": "code",
   "execution_count": 33,
   "metadata": {},
   "outputs": [
    {
     "data": {
      "text/html": [
       "<div>\n",
       "<style scoped>\n",
       "    .dataframe tbody tr th:only-of-type {\n",
       "        vertical-align: middle;\n",
       "    }\n",
       "\n",
       "    .dataframe tbody tr th {\n",
       "        vertical-align: top;\n",
       "    }\n",
       "\n",
       "    .dataframe thead th {\n",
       "        text-align: right;\n",
       "    }\n",
       "</style>\n",
       "<table border=\"1\" class=\"dataframe\">\n",
       "  <thead>\n",
       "    <tr style=\"text-align: right;\">\n",
       "      <th></th>\n",
       "      <th>Id</th>\n",
       "      <th>Name</th>\n",
       "      <th>Gender</th>\n",
       "      <th>Gender Value</th>\n",
       "      <th>Vowel/Consonant End</th>\n",
       "      <th>Vowel/Consonant Start</th>\n",
       "      <th>Short/Long Name</th>\n",
       "      <th>features</th>\n",
       "    </tr>\n",
       "  </thead>\n",
       "  <tbody>\n",
       "    <tr>\n",
       "      <td>0</td>\n",
       "      <td>0</td>\n",
       "      <td>fairuz</td>\n",
       "      <td>female</td>\n",
       "      <td>0</td>\n",
       "      <td>Consonant End</td>\n",
       "      <td>Consonant Start</td>\n",
       "      <td>Long</td>\n",
       "      <td>{'first-letter': 'f', 'first2-letters': 'fa', ...</td>\n",
       "    </tr>\n",
       "    <tr>\n",
       "      <td>1</td>\n",
       "      <td>1</td>\n",
       "      <td>maliha</td>\n",
       "      <td>female</td>\n",
       "      <td>0</td>\n",
       "      <td>Vowel End</td>\n",
       "      <td>Consonant Start</td>\n",
       "      <td>Long</td>\n",
       "      <td>{'first-letter': 'm', 'first2-letters': 'ma', ...</td>\n",
       "    </tr>\n",
       "    <tr>\n",
       "      <td>2</td>\n",
       "      <td>2</td>\n",
       "      <td>mehedi</td>\n",
       "      <td>male</td>\n",
       "      <td>1</td>\n",
       "      <td>Vowel End</td>\n",
       "      <td>Consonant Start</td>\n",
       "      <td>Long</td>\n",
       "      <td>{'first-letter': 'm', 'first2-letters': 'me', ...</td>\n",
       "    </tr>\n",
       "    <tr>\n",
       "      <td>3</td>\n",
       "      <td>3</td>\n",
       "      <td>sohan</td>\n",
       "      <td>male</td>\n",
       "      <td>1</td>\n",
       "      <td>Consonant End</td>\n",
       "      <td>Consonant Start</td>\n",
       "      <td>Short</td>\n",
       "      <td>{'first-letter': 's', 'first2-letters': 'so', ...</td>\n",
       "    </tr>\n",
       "    <tr>\n",
       "      <td>4</td>\n",
       "      <td>4</td>\n",
       "      <td>shatil</td>\n",
       "      <td>male</td>\n",
       "      <td>1</td>\n",
       "      <td>Consonant End</td>\n",
       "      <td>Consonant Start</td>\n",
       "      <td>Long</td>\n",
       "      <td>{'first-letter': 's', 'first2-letters': 'sh', ...</td>\n",
       "    </tr>\n",
       "  </tbody>\n",
       "</table>\n",
       "</div>"
      ],
      "text/plain": [
       "   Id    Name  Gender  Gender Value Vowel/Consonant End Vowel/Consonant Start  \\\n",
       "0   0  fairuz  female             0       Consonant End       Consonant Start   \n",
       "1   1  maliha  female             0           Vowel End       Consonant Start   \n",
       "2   2  mehedi    male             1           Vowel End       Consonant Start   \n",
       "3   3   sohan    male             1       Consonant End       Consonant Start   \n",
       "4   4  shatil    male             1       Consonant End       Consonant Start   \n",
       "\n",
       "  Short/Long Name                                           features  \n",
       "0            Long  {'first-letter': 'f', 'first2-letters': 'fa', ...  \n",
       "1            Long  {'first-letter': 'm', 'first2-letters': 'ma', ...  \n",
       "2            Long  {'first-letter': 'm', 'first2-letters': 'me', ...  \n",
       "3           Short  {'first-letter': 's', 'first2-letters': 'so', ...  \n",
       "4            Long  {'first-letter': 's', 'first2-letters': 'sh', ...  "
      ]
     },
     "execution_count": 33,
     "metadata": {},
     "output_type": "execute_result"
    }
   ],
   "source": [
    "df[\"features\"] = df[\"Name\"].apply(features)\n",
    "df.head()"
   ]
  },
  {
   "cell_type": "code",
   "execution_count": 34,
   "metadata": {},
   "outputs": [
    {
     "data": {
      "text/html": [
       "<div>\n",
       "<style scoped>\n",
       "    .dataframe tbody tr th:only-of-type {\n",
       "        vertical-align: middle;\n",
       "    }\n",
       "\n",
       "    .dataframe tbody tr th {\n",
       "        vertical-align: top;\n",
       "    }\n",
       "\n",
       "    .dataframe thead th {\n",
       "        text-align: right;\n",
       "    }\n",
       "</style>\n",
       "<table border=\"1\" class=\"dataframe\">\n",
       "  <thead>\n",
       "    <tr style=\"text-align: right;\">\n",
       "      <th></th>\n",
       "      <th>Id</th>\n",
       "      <th>Name</th>\n",
       "      <th>Gender</th>\n",
       "      <th>Gender Value</th>\n",
       "      <th>Vowel/Consonant End</th>\n",
       "      <th>Vowel/Consonant Start</th>\n",
       "      <th>Short/Long Name</th>\n",
       "      <th>features</th>\n",
       "      <th>Feature End</th>\n",
       "    </tr>\n",
       "  </thead>\n",
       "  <tbody>\n",
       "    <tr>\n",
       "      <td>0</td>\n",
       "      <td>0</td>\n",
       "      <td>fairuz</td>\n",
       "      <td>female</td>\n",
       "      <td>0</td>\n",
       "      <td>Consonant End</td>\n",
       "      <td>Consonant Start</td>\n",
       "      <td>Long</td>\n",
       "      <td>{'first-letter': 'f', 'first2-letters': 'fa', ...</td>\n",
       "      <td>b</td>\n",
       "    </tr>\n",
       "    <tr>\n",
       "      <td>1</td>\n",
       "      <td>1</td>\n",
       "      <td>maliha</td>\n",
       "      <td>female</td>\n",
       "      <td>0</td>\n",
       "      <td>Vowel End</td>\n",
       "      <td>Consonant Start</td>\n",
       "      <td>Long</td>\n",
       "      <td>{'first-letter': 'm', 'first2-letters': 'ma', ...</td>\n",
       "      <td>a</td>\n",
       "    </tr>\n",
       "    <tr>\n",
       "      <td>2</td>\n",
       "      <td>2</td>\n",
       "      <td>mehedi</td>\n",
       "      <td>male</td>\n",
       "      <td>1</td>\n",
       "      <td>Vowel End</td>\n",
       "      <td>Consonant Start</td>\n",
       "      <td>Long</td>\n",
       "      <td>{'first-letter': 'm', 'first2-letters': 'me', ...</td>\n",
       "      <td>b</td>\n",
       "    </tr>\n",
       "    <tr>\n",
       "      <td>3</td>\n",
       "      <td>3</td>\n",
       "      <td>sohan</td>\n",
       "      <td>male</td>\n",
       "      <td>1</td>\n",
       "      <td>Consonant End</td>\n",
       "      <td>Consonant Start</td>\n",
       "      <td>Short</td>\n",
       "      <td>{'first-letter': 's', 'first2-letters': 'so', ...</td>\n",
       "      <td>b</td>\n",
       "    </tr>\n",
       "    <tr>\n",
       "      <td>4</td>\n",
       "      <td>4</td>\n",
       "      <td>shatil</td>\n",
       "      <td>male</td>\n",
       "      <td>1</td>\n",
       "      <td>Consonant End</td>\n",
       "      <td>Consonant Start</td>\n",
       "      <td>Long</td>\n",
       "      <td>{'first-letter': 's', 'first2-letters': 'sh', ...</td>\n",
       "      <td>b</td>\n",
       "    </tr>\n",
       "    <tr>\n",
       "      <td>...</td>\n",
       "      <td>...</td>\n",
       "      <td>...</td>\n",
       "      <td>...</td>\n",
       "      <td>...</td>\n",
       "      <td>...</td>\n",
       "      <td>...</td>\n",
       "      <td>...</td>\n",
       "      <td>...</td>\n",
       "      <td>...</td>\n",
       "    </tr>\n",
       "    <tr>\n",
       "      <td>1333</td>\n",
       "      <td>1333</td>\n",
       "      <td>mounota</td>\n",
       "      <td>female</td>\n",
       "      <td>0</td>\n",
       "      <td>Vowel End</td>\n",
       "      <td>Consonant Start</td>\n",
       "      <td>Long</td>\n",
       "      <td>{'first-letter': 'm', 'first2-letters': 'mo', ...</td>\n",
       "      <td>a</td>\n",
       "    </tr>\n",
       "    <tr>\n",
       "      <td>1334</td>\n",
       "      <td>1334</td>\n",
       "      <td>tanbin</td>\n",
       "      <td>female</td>\n",
       "      <td>0</td>\n",
       "      <td>Consonant End</td>\n",
       "      <td>Consonant Start</td>\n",
       "      <td>Long</td>\n",
       "      <td>{'first-letter': 't', 'first2-letters': 'ta', ...</td>\n",
       "      <td>b</td>\n",
       "    </tr>\n",
       "    <tr>\n",
       "      <td>1335</td>\n",
       "      <td>1335</td>\n",
       "      <td>nafia</td>\n",
       "      <td>female</td>\n",
       "      <td>0</td>\n",
       "      <td>Vowel End</td>\n",
       "      <td>Consonant Start</td>\n",
       "      <td>Short</td>\n",
       "      <td>{'first-letter': 'n', 'first2-letters': 'na', ...</td>\n",
       "      <td>a</td>\n",
       "    </tr>\n",
       "    <tr>\n",
       "      <td>1339</td>\n",
       "      <td>1339</td>\n",
       "      <td>disha</td>\n",
       "      <td>female</td>\n",
       "      <td>0</td>\n",
       "      <td>Vowel End</td>\n",
       "      <td>Consonant Start</td>\n",
       "      <td>Short</td>\n",
       "      <td>{'first-letter': 'd', 'first2-letters': 'di', ...</td>\n",
       "      <td>a</td>\n",
       "    </tr>\n",
       "    <tr>\n",
       "      <td>1340</td>\n",
       "      <td>1340</td>\n",
       "      <td>sayma</td>\n",
       "      <td>female</td>\n",
       "      <td>0</td>\n",
       "      <td>Vowel End</td>\n",
       "      <td>Consonant Start</td>\n",
       "      <td>Short</td>\n",
       "      <td>{'first-letter': 's', 'first2-letters': 'sa', ...</td>\n",
       "      <td>a</td>\n",
       "    </tr>\n",
       "  </tbody>\n",
       "</table>\n",
       "<p>989 rows × 9 columns</p>\n",
       "</div>"
      ],
      "text/plain": [
       "        Id     Name  Gender  Gender Value Vowel/Consonant End  \\\n",
       "0        0   fairuz  female             0       Consonant End   \n",
       "1        1   maliha  female             0           Vowel End   \n",
       "2        2   mehedi    male             1           Vowel End   \n",
       "3        3    sohan    male             1       Consonant End   \n",
       "4        4   shatil    male             1       Consonant End   \n",
       "...    ...      ...     ...           ...                 ...   \n",
       "1333  1333  mounota  female             0           Vowel End   \n",
       "1334  1334   tanbin  female             0       Consonant End   \n",
       "1335  1335    nafia  female             0           Vowel End   \n",
       "1339  1339    disha  female             0           Vowel End   \n",
       "1340  1340    sayma  female             0           Vowel End   \n",
       "\n",
       "     Vowel/Consonant Start Short/Long Name  \\\n",
       "0          Consonant Start            Long   \n",
       "1          Consonant Start            Long   \n",
       "2          Consonant Start            Long   \n",
       "3          Consonant Start           Short   \n",
       "4          Consonant Start            Long   \n",
       "...                    ...             ...   \n",
       "1333       Consonant Start            Long   \n",
       "1334       Consonant Start            Long   \n",
       "1335       Consonant Start           Short   \n",
       "1339       Consonant Start           Short   \n",
       "1340       Consonant Start           Short   \n",
       "\n",
       "                                               features Feature End  \n",
       "0     {'first-letter': 'f', 'first2-letters': 'fa', ...           b  \n",
       "1     {'first-letter': 'm', 'first2-letters': 'ma', ...           a  \n",
       "2     {'first-letter': 'm', 'first2-letters': 'me', ...           b  \n",
       "3     {'first-letter': 's', 'first2-letters': 'so', ...           b  \n",
       "4     {'first-letter': 's', 'first2-letters': 'sh', ...           b  \n",
       "...                                                 ...         ...  \n",
       "1333  {'first-letter': 'm', 'first2-letters': 'mo', ...           a  \n",
       "1334  {'first-letter': 't', 'first2-letters': 'ta', ...           b  \n",
       "1335  {'first-letter': 'n', 'first2-letters': 'na', ...           a  \n",
       "1339  {'first-letter': 'd', 'first2-letters': 'di', ...           a  \n",
       "1340  {'first-letter': 's', 'first2-letters': 'sa', ...           a  \n",
       "\n",
       "[989 rows x 9 columns]"
      ]
     },
     "execution_count": 34,
     "metadata": {},
     "output_type": "execute_result"
    }
   ],
   "source": [
    "def checkfeature(name):\n",
    "    if name[-1] in \"a,e\":\n",
    "        return \"a\"\n",
    "    return \"b\"\n",
    "df[\"Feature End\"] = df[\"Name\"].apply(checkfeature)\n",
    "df.head(-20)"
   ]
  },
  {
   "cell_type": "code",
   "execution_count": 35,
   "metadata": {},
   "outputs": [
    {
     "data": {
      "text/html": [
       "<div>\n",
       "<style scoped>\n",
       "    .dataframe tbody tr th:only-of-type {\n",
       "        vertical-align: middle;\n",
       "    }\n",
       "\n",
       "    .dataframe tbody tr th {\n",
       "        vertical-align: top;\n",
       "    }\n",
       "\n",
       "    .dataframe thead th {\n",
       "        text-align: right;\n",
       "    }\n",
       "</style>\n",
       "<table border=\"1\" class=\"dataframe\">\n",
       "  <thead>\n",
       "    <tr style=\"text-align: right;\">\n",
       "      <th></th>\n",
       "      <th>Id</th>\n",
       "      <th>Name</th>\n",
       "      <th>Gender</th>\n",
       "      <th>Gender Value</th>\n",
       "      <th>Vowel/Consonant End</th>\n",
       "      <th>Vowel/Consonant Start</th>\n",
       "      <th>Short/Long Name</th>\n",
       "      <th>features</th>\n",
       "      <th>Feature End</th>\n",
       "    </tr>\n",
       "  </thead>\n",
       "  <tbody>\n",
       "    <tr>\n",
       "      <td>0</td>\n",
       "      <td>0</td>\n",
       "      <td>fairuz</td>\n",
       "      <td>female</td>\n",
       "      <td>0</td>\n",
       "      <td>Consonant End</td>\n",
       "      <td>Consonant Start</td>\n",
       "      <td>Long</td>\n",
       "      <td>{'first-letter': 'f', 'first2-letters': 'fa', ...</td>\n",
       "      <td>b</td>\n",
       "    </tr>\n",
       "    <tr>\n",
       "      <td>1</td>\n",
       "      <td>1</td>\n",
       "      <td>maliha</td>\n",
       "      <td>female</td>\n",
       "      <td>0</td>\n",
       "      <td>Vowel End</td>\n",
       "      <td>Consonant Start</td>\n",
       "      <td>Long</td>\n",
       "      <td>{'first-letter': 'm', 'first2-letters': 'ma', ...</td>\n",
       "      <td>a</td>\n",
       "    </tr>\n",
       "    <tr>\n",
       "      <td>2</td>\n",
       "      <td>2</td>\n",
       "      <td>mehedi</td>\n",
       "      <td>male</td>\n",
       "      <td>1</td>\n",
       "      <td>Vowel End</td>\n",
       "      <td>Consonant Start</td>\n",
       "      <td>Long</td>\n",
       "      <td>{'first-letter': 'm', 'first2-letters': 'me', ...</td>\n",
       "      <td>b</td>\n",
       "    </tr>\n",
       "    <tr>\n",
       "      <td>3</td>\n",
       "      <td>3</td>\n",
       "      <td>sohan</td>\n",
       "      <td>male</td>\n",
       "      <td>1</td>\n",
       "      <td>Consonant End</td>\n",
       "      <td>Consonant Start</td>\n",
       "      <td>Short</td>\n",
       "      <td>{'first-letter': 's', 'first2-letters': 'so', ...</td>\n",
       "      <td>b</td>\n",
       "    </tr>\n",
       "    <tr>\n",
       "      <td>4</td>\n",
       "      <td>4</td>\n",
       "      <td>shatil</td>\n",
       "      <td>male</td>\n",
       "      <td>1</td>\n",
       "      <td>Consonant End</td>\n",
       "      <td>Consonant Start</td>\n",
       "      <td>Long</td>\n",
       "      <td>{'first-letter': 's', 'first2-letters': 'sh', ...</td>\n",
       "      <td>b</td>\n",
       "    </tr>\n",
       "    <tr>\n",
       "      <td>5</td>\n",
       "      <td>5</td>\n",
       "      <td>akid</td>\n",
       "      <td>male</td>\n",
       "      <td>1</td>\n",
       "      <td>Consonant End</td>\n",
       "      <td>Vowel Start</td>\n",
       "      <td>Short</td>\n",
       "      <td>{'first-letter': 'a', 'first2-letters': 'ak', ...</td>\n",
       "      <td>b</td>\n",
       "    </tr>\n",
       "    <tr>\n",
       "      <td>6</td>\n",
       "      <td>6</td>\n",
       "      <td>samia</td>\n",
       "      <td>female</td>\n",
       "      <td>0</td>\n",
       "      <td>Vowel End</td>\n",
       "      <td>Consonant Start</td>\n",
       "      <td>Short</td>\n",
       "      <td>{'first-letter': 's', 'first2-letters': 'sa', ...</td>\n",
       "      <td>a</td>\n",
       "    </tr>\n",
       "    <tr>\n",
       "      <td>7</td>\n",
       "      <td>7</td>\n",
       "      <td>tanvir</td>\n",
       "      <td>male</td>\n",
       "      <td>1</td>\n",
       "      <td>Consonant End</td>\n",
       "      <td>Consonant Start</td>\n",
       "      <td>Long</td>\n",
       "      <td>{'first-letter': 't', 'first2-letters': 'ta', ...</td>\n",
       "      <td>b</td>\n",
       "    </tr>\n",
       "    <tr>\n",
       "      <td>16</td>\n",
       "      <td>16</td>\n",
       "      <td>khaja</td>\n",
       "      <td>male</td>\n",
       "      <td>1</td>\n",
       "      <td>Vowel End</td>\n",
       "      <td>Consonant Start</td>\n",
       "      <td>Short</td>\n",
       "      <td>{'first-letter': 'k', 'first2-letters': 'kh', ...</td>\n",
       "      <td>a</td>\n",
       "    </tr>\n",
       "    <tr>\n",
       "      <td>23</td>\n",
       "      <td>23</td>\n",
       "      <td>sadiqua</td>\n",
       "      <td>female</td>\n",
       "      <td>0</td>\n",
       "      <td>Vowel End</td>\n",
       "      <td>Consonant Start</td>\n",
       "      <td>Long</td>\n",
       "      <td>{'first-letter': 's', 'first2-letters': 'sa', ...</td>\n",
       "      <td>a</td>\n",
       "    </tr>\n",
       "    <tr>\n",
       "      <td>24</td>\n",
       "      <td>24</td>\n",
       "      <td>promi</td>\n",
       "      <td>female</td>\n",
       "      <td>0</td>\n",
       "      <td>Vowel End</td>\n",
       "      <td>Consonant Start</td>\n",
       "      <td>Short</td>\n",
       "      <td>{'first-letter': 'p', 'first2-letters': 'pr', ...</td>\n",
       "      <td>b</td>\n",
       "    </tr>\n",
       "    <tr>\n",
       "      <td>30</td>\n",
       "      <td>30</td>\n",
       "      <td>tasnim</td>\n",
       "      <td>female</td>\n",
       "      <td>0</td>\n",
       "      <td>Consonant End</td>\n",
       "      <td>Consonant Start</td>\n",
       "      <td>Long</td>\n",
       "      <td>{'first-letter': 't', 'first2-letters': 'ta', ...</td>\n",
       "      <td>b</td>\n",
       "    </tr>\n",
       "    <tr>\n",
       "      <td>31</td>\n",
       "      <td>31</td>\n",
       "      <td>ananya</td>\n",
       "      <td>female</td>\n",
       "      <td>0</td>\n",
       "      <td>Vowel End</td>\n",
       "      <td>Vowel Start</td>\n",
       "      <td>Long</td>\n",
       "      <td>{'first-letter': 'a', 'first2-letters': 'an', ...</td>\n",
       "      <td>a</td>\n",
       "    </tr>\n",
       "    <tr>\n",
       "      <td>44</td>\n",
       "      <td>44</td>\n",
       "      <td>nasiba</td>\n",
       "      <td>female</td>\n",
       "      <td>0</td>\n",
       "      <td>Vowel End</td>\n",
       "      <td>Consonant Start</td>\n",
       "      <td>Long</td>\n",
       "      <td>{'first-letter': 'n', 'first2-letters': 'na', ...</td>\n",
       "      <td>a</td>\n",
       "    </tr>\n",
       "    <tr>\n",
       "      <td>45</td>\n",
       "      <td>45</td>\n",
       "      <td>anjum</td>\n",
       "      <td>female</td>\n",
       "      <td>0</td>\n",
       "      <td>Consonant End</td>\n",
       "      <td>Vowel Start</td>\n",
       "      <td>Short</td>\n",
       "      <td>{'first-letter': 'a', 'first2-letters': 'an', ...</td>\n",
       "      <td>b</td>\n",
       "    </tr>\n",
       "    <tr>\n",
       "      <td>56</td>\n",
       "      <td>56</td>\n",
       "      <td>ferdousi</td>\n",
       "      <td>female</td>\n",
       "      <td>0</td>\n",
       "      <td>Vowel End</td>\n",
       "      <td>Consonant Start</td>\n",
       "      <td>Long</td>\n",
       "      <td>{'first-letter': 'f', 'first2-letters': 'fe', ...</td>\n",
       "      <td>b</td>\n",
       "    </tr>\n",
       "    <tr>\n",
       "      <td>137</td>\n",
       "      <td>137</td>\n",
       "      <td>mustafa</td>\n",
       "      <td>male</td>\n",
       "      <td>1</td>\n",
       "      <td>Vowel End</td>\n",
       "      <td>Consonant Start</td>\n",
       "      <td>Long</td>\n",
       "      <td>{'first-letter': 'm', 'first2-letters': 'mu', ...</td>\n",
       "      <td>a</td>\n",
       "    </tr>\n",
       "    <tr>\n",
       "      <td>161</td>\n",
       "      <td>161</td>\n",
       "      <td>arghya</td>\n",
       "      <td>male</td>\n",
       "      <td>1</td>\n",
       "      <td>Vowel End</td>\n",
       "      <td>Vowel Start</td>\n",
       "      <td>Long</td>\n",
       "      <td>{'first-letter': 'a', 'first2-letters': 'ar', ...</td>\n",
       "      <td>a</td>\n",
       "    </tr>\n",
       "    <tr>\n",
       "      <td>193</td>\n",
       "      <td>193</td>\n",
       "      <td>zia</td>\n",
       "      <td>male</td>\n",
       "      <td>1</td>\n",
       "      <td>Vowel End</td>\n",
       "      <td>Consonant Start</td>\n",
       "      <td>Short</td>\n",
       "      <td>{'first-letter': 'z', 'first2-letters': 'zi', ...</td>\n",
       "      <td>a</td>\n",
       "    </tr>\n",
       "    <tr>\n",
       "      <td>196</td>\n",
       "      <td>196</td>\n",
       "      <td>mahbube</td>\n",
       "      <td>male</td>\n",
       "      <td>1</td>\n",
       "      <td>Vowel End</td>\n",
       "      <td>Consonant Start</td>\n",
       "      <td>Long</td>\n",
       "      <td>{'first-letter': 'm', 'first2-letters': 'ma', ...</td>\n",
       "      <td>a</td>\n",
       "    </tr>\n",
       "  </tbody>\n",
       "</table>\n",
       "</div>"
      ],
      "text/plain": [
       "      Id      Name  Gender  Gender Value Vowel/Consonant End  \\\n",
       "0      0    fairuz  female             0       Consonant End   \n",
       "1      1    maliha  female             0           Vowel End   \n",
       "2      2    mehedi    male             1           Vowel End   \n",
       "3      3     sohan    male             1       Consonant End   \n",
       "4      4    shatil    male             1       Consonant End   \n",
       "5      5      akid    male             1       Consonant End   \n",
       "6      6     samia  female             0           Vowel End   \n",
       "7      7    tanvir    male             1       Consonant End   \n",
       "16    16     khaja    male             1           Vowel End   \n",
       "23    23   sadiqua  female             0           Vowel End   \n",
       "24    24     promi  female             0           Vowel End   \n",
       "30    30    tasnim  female             0       Consonant End   \n",
       "31    31    ananya  female             0           Vowel End   \n",
       "44    44    nasiba  female             0           Vowel End   \n",
       "45    45     anjum  female             0       Consonant End   \n",
       "56    56  ferdousi  female             0           Vowel End   \n",
       "137  137   mustafa    male             1           Vowel End   \n",
       "161  161    arghya    male             1           Vowel End   \n",
       "193  193       zia    male             1           Vowel End   \n",
       "196  196   mahbube    male             1           Vowel End   \n",
       "\n",
       "    Vowel/Consonant Start Short/Long Name  \\\n",
       "0         Consonant Start            Long   \n",
       "1         Consonant Start            Long   \n",
       "2         Consonant Start            Long   \n",
       "3         Consonant Start           Short   \n",
       "4         Consonant Start            Long   \n",
       "5             Vowel Start           Short   \n",
       "6         Consonant Start           Short   \n",
       "7         Consonant Start            Long   \n",
       "16        Consonant Start           Short   \n",
       "23        Consonant Start            Long   \n",
       "24        Consonant Start           Short   \n",
       "30        Consonant Start            Long   \n",
       "31            Vowel Start            Long   \n",
       "44        Consonant Start            Long   \n",
       "45            Vowel Start           Short   \n",
       "56        Consonant Start            Long   \n",
       "137       Consonant Start            Long   \n",
       "161           Vowel Start            Long   \n",
       "193       Consonant Start           Short   \n",
       "196       Consonant Start            Long   \n",
       "\n",
       "                                              features Feature End  \n",
       "0    {'first-letter': 'f', 'first2-letters': 'fa', ...           b  \n",
       "1    {'first-letter': 'm', 'first2-letters': 'ma', ...           a  \n",
       "2    {'first-letter': 'm', 'first2-letters': 'me', ...           b  \n",
       "3    {'first-letter': 's', 'first2-letters': 'so', ...           b  \n",
       "4    {'first-letter': 's', 'first2-letters': 'sh', ...           b  \n",
       "5    {'first-letter': 'a', 'first2-letters': 'ak', ...           b  \n",
       "6    {'first-letter': 's', 'first2-letters': 'sa', ...           a  \n",
       "7    {'first-letter': 't', 'first2-letters': 'ta', ...           b  \n",
       "16   {'first-letter': 'k', 'first2-letters': 'kh', ...           a  \n",
       "23   {'first-letter': 's', 'first2-letters': 'sa', ...           a  \n",
       "24   {'first-letter': 'p', 'first2-letters': 'pr', ...           b  \n",
       "30   {'first-letter': 't', 'first2-letters': 'ta', ...           b  \n",
       "31   {'first-letter': 'a', 'first2-letters': 'an', ...           a  \n",
       "44   {'first-letter': 'n', 'first2-letters': 'na', ...           a  \n",
       "45   {'first-letter': 'a', 'first2-letters': 'an', ...           b  \n",
       "56   {'first-letter': 'f', 'first2-letters': 'fe', ...           b  \n",
       "137  {'first-letter': 'm', 'first2-letters': 'mu', ...           a  \n",
       "161  {'first-letter': 'a', 'first2-letters': 'ar', ...           a  \n",
       "193  {'first-letter': 'z', 'first2-letters': 'zi', ...           a  \n",
       "196  {'first-letter': 'm', 'first2-letters': 'ma', ...           a  "
      ]
     },
     "execution_count": 35,
     "metadata": {},
     "output_type": "execute_result"
    }
   ],
   "source": [
    "g=df.groupby(['Feature End','Gender'])\n",
    "g.head()"
   ]
  },
  {
   "cell_type": "code",
   "execution_count": 36,
   "metadata": {},
   "outputs": [
    {
     "name": "stdout",
     "output_type": "stream",
     "text": [
      "Feature End  Gender\n",
      "a            female    316\n",
      "             male       24\n",
      "b            female    257\n",
      "             male      412\n",
      "dtype: int64\n"
     ]
    }
   ],
   "source": [
    "names =(df.groupby(['Feature End','Gender'])).size()\n",
    "#female_names =(df.groupby(['features','Gender Value'])).count()\n",
    "\n",
    "#all_names = df.groupby([\"Gender\"])[\"Gender Value\"].count()\n",
    "print (names)"
   ]
  },
  {
   "cell_type": "code",
   "execution_count": 37,
   "metadata": {},
   "outputs": [
    {
     "data": {
      "image/png": "[encoded data removed]",
      "text/plain": [
       "<Figure size 432x288 with 1 Axes>"
      ]
     },
     "metadata": {
      "needs_background": "light"
     },
     "output_type": "display_data"
    }
   ],
   "source": [
    "import numpy as np\n",
    "import matplotlib.pyplot as plt\n",
    "\n",
    "N = 2\n",
    "womenMeans = (479,410)\n",
    "MenMeans = (32,662)\n",
    "menStd = (2, 3)\n",
    "womenStd = (6, 3)\n",
    "ind = np.arange(N)    # the x locations for the groups\n",
    "width = 0.35       # the width of the bars: can also be len(x) sequence\n",
    "\n",
    "p1 = plt.bar(ind, MenMeans, width, yerr=menStd)\n",
    "p2 = plt.bar(ind, womenMeans, width,bottom=MenMeans, yerr=womenStd)\n",
    "\n",
    "plt.ylabel('Scores')\n",
    "plt.title('Scores by Names Ending with A,E  and Gender')\n",
    "plt.xticks(ind, ('Have', 'Dont'))\n",
    "#plt.yticks(np.arange(0, 81, 10))\n",
    "plt.legend((p1[0], p2[0]), ('Men', 'Women'))\n",
    "\n",
    "plt.show()"
   ]
  },
  {
   "cell_type": "code",
   "execution_count": 38,
   "metadata": {},
   "outputs": [],
   "source": [
    " training_data = df[[\"Gender Value\", \"Vowel/Consonant Start\", \"Short/Long Name\", \"Vowel/Consonant End\",\"Feature End\"]]\n",
    "# training_data.head()"
   ]
  },
  {
   "cell_type": "code",
   "execution_count": 39,
   "metadata": {},
   "outputs": [],
   "source": [
    "X= df[['Vowel/Consonant Start', 'Short/Long Name', 'Vowel/Consonant End','Feature End']]\n",
    "y= df ['Gender Value']"
   ]
  },
  {
   "cell_type": "code",
   "execution_count": 31,
   "metadata": {},
   "outputs": [
    {
     "name": "stderr",
     "output_type": "stream",
     "text": [
      "C:\\ProgramData\\Anaconda3\\lib\\site-packages\\pandas\\core\\frame.py:3494: SettingWithCopyWarning: \n",
      "A value is trying to be set on a copy of a slice from a DataFrame.\n",
      "Try using .loc[row_indexer,col_indexer] = value instead\n",
      "\n",
      "See the caveats in the documentation: http://pandas.pydata.org/pandas-docs/stable/user_guide/indexing.html#returning-a-view-versus-a-copy\n",
      "  self[k1] = value[k2]\n"
     ]
    }
   ],
   "source": [
    "def reprCategory(column):\n",
    "    column = column.astype(\"category\")\n",
    "    return column.cat.codes\n",
    "    \n",
    "#training_data[[\"Vowel/Consonant End\", \"Short/Long Name\", \"Vowel/Consonant Start\",\"Feature End\"]] = training_data[[\"Vowel/Consonant End\", \"Short/Long Name\", \"Vowel/Consonant Start\",\"Feature End\"]].apply(reprCategory)\n",
    "X[[\"Vowel/Consonant End\", \"Short/Long Name\", \"Vowel/Consonant Start\",\"Feature End\"]] = X[[\"Vowel/Consonant End\", \"Short/Long Name\", \"Vowel/Consonant Start\",\"Feature End\"]].apply(reprCategory)\n",
    "#training_data.head()\n",
    "X_train,X_test,y_train,y_test = train_test_split(X,y, test_size = 0.20)\n",
    "\n",
    "#train,test = train_test_split(training_data, test_size = 0.20)\n"
   ]
  },
  {
   "cell_type": "code",
   "execution_count": 32,
   "metadata": {},
   "outputs": [
    {
     "data": {
      "text/plain": [
       "807"
      ]
     },
     "execution_count": 32,
     "metadata": {},
     "output_type": "execute_result"
    }
   ],
   "source": [
    "len(X_train)\n"
   ]
  },
  {
   "cell_type": "code",
   "execution_count": 33,
   "metadata": {},
   "outputs": [
    {
     "data": {
      "text/plain": [
       "202"
      ]
     },
     "execution_count": 33,
     "metadata": {},
     "output_type": "execute_result"
    }
   ],
   "source": [
    "len(X_test)\n"
   ]
  },
  {
   "cell_type": "code",
   "execution_count": 34,
   "metadata": {},
   "outputs": [
    {
     "data": {
      "text/plain": [
       "807"
      ]
     },
     "execution_count": 34,
     "metadata": {},
     "output_type": "execute_result"
    }
   ],
   "source": [
    "len(y_train)\n"
   ]
  },
  {
   "cell_type": "code",
   "execution_count": 35,
   "metadata": {},
   "outputs": [
    {
     "data": {
      "text/plain": [
       "202"
      ]
     },
     "execution_count": 35,
     "metadata": {},
     "output_type": "execute_result"
    }
   ],
   "source": [
    "len(y_test)"
   ]
  },
  {
   "cell_type": "code",
   "execution_count": 36,
   "metadata": {},
   "outputs": [],
   "source": [
    "from sklearn.naive_bayes import MultinomialNB\n",
    "MultinomialNB_clf = MultinomialNB()\n"
   ]
  },
  {
   "cell_type": "code",
   "execution_count": 37,
   "metadata": {},
   "outputs": [
    {
     "data": {
      "text/plain": [
       "MultinomialNB(alpha=1.0, class_prior=None, fit_prior=True)"
      ]
     },
     "execution_count": 37,
     "metadata": {},
     "output_type": "execute_result"
    }
   ],
   "source": [
    "MultinomialNB_clf.fit(X_train,y_train)\n"
   ]
  },
  {
   "cell_type": "code",
   "execution_count": 38,
   "metadata": {},
   "outputs": [
    {
     "data": {
      "text/plain": [
       "array([0, 1, 1, 1, 1, 1, 1, 0, 0, 1, 0, 0, 0, 1, 1, 1, 1, 0, 1, 1, 0, 0,\n",
       "       0, 1, 1, 0, 1, 1, 1, 0, 1, 1, 1, 0, 0, 1, 1, 0, 0, 1, 1, 0, 1, 0,\n",
       "       1, 0, 0, 1, 1, 0, 0, 1, 1, 1, 0, 1, 1, 1, 1, 0, 1, 0, 0, 0, 0, 1,\n",
       "       1, 1, 1, 1, 1, 1, 1, 0, 0, 0, 1, 0, 1, 0, 0, 1, 0, 0, 0, 1, 0, 1,\n",
       "       1, 1, 0, 1, 1, 1, 1, 1, 0, 1, 0, 0, 1, 0, 1, 0, 1, 1, 0, 1, 1, 1,\n",
       "       0, 1, 1, 0, 1, 0, 1, 1, 1, 1, 1, 0, 1, 0, 0, 1, 1, 1, 1, 0, 1, 1,\n",
       "       1, 1, 0, 1, 0, 0, 1, 0, 1, 0, 0, 1, 1, 1, 1, 1, 1, 0, 1, 1, 0, 0,\n",
       "       0, 1, 1, 0, 0, 1, 1, 1, 1, 1, 1, 0, 1, 0, 0, 0, 1, 1, 1, 0, 0, 1,\n",
       "       1, 1, 0, 1, 1, 0, 0, 0, 1, 0, 0, 0, 1, 0, 0, 0, 1, 1, 1, 1, 1, 0,\n",
       "       1, 1, 1, 1], dtype=int64)"
      ]
     },
     "execution_count": 38,
     "metadata": {},
     "output_type": "execute_result"
    }
   ],
   "source": [
    "MultinomialNB_clf.predict(X_test)"
   ]
  },
  {
   "cell_type": "code",
   "execution_count": 76,
   "metadata": {},
   "outputs": [
    {
     "name": "stdout",
     "output_type": "stream",
     "text": [
      "[0 1 1 1 1 1 1 0 0 1 0 0 0 1 1 1 1 0 1 1 0 0 0 1 1 0 1 1 1 0 1 1 1 0 0 1 1\n",
      " 0 0 1 1 0 1 0 1 0 0 1 1 0 0 1 1 1 0 1 1 1 1 0 1 0 0 0 0 1 1 1 1 1 1 1 1 0\n",
      " 0 0 1 0 1 0 0 1 0 0 0 1 0 1 1 1 0 1 1 1 1 1 0 1 0 0 1 0 1 0 1 1 0 1 1 1 0\n",
      " 1 1 0 1 0 1 1 1 1 1 0 1 0 0 1 1 1 1 0 1 1 1 1 0 1 0 0 1 0 1 0 0 1 1 1 1 1\n",
      " 1 0 1 1 0 0 0 1 1 0 0 1 1 1 1 1 1 0 1 0 0 0 1 1 1 0 0 1 1 1 0 1 1 0 0 0 1\n",
      " 0 0 0 1 0 0 0 1 1 1 1 1 0 1 1 1 1]\n"
     ]
    }
   ],
   "source": [
    "df= MultinomialNB_clf.predict(X_test)\n",
    "print (str(df))"
   ]
  },
  {
   "cell_type": "code",
   "execution_count": 35,
   "metadata": {},
   "outputs": [
    {
     "data": {
      "text/plain": [
       "199     1\n",
       "1263    0\n",
       "83      0\n",
       "1226    0\n",
       "1248    0\n",
       "       ..\n",
       "402     0\n",
       "357     0\n",
       "139     0\n",
       "682     0\n",
       "41      1\n",
       "Name: Gender Value, Length: 202, dtype: int64"
      ]
     },
     "execution_count": 35,
     "metadata": {},
     "output_type": "execute_result"
    }
   ],
   "source": [
    "y_test"
   ]
  },
  {
   "cell_type": "code",
   "execution_count": 40,
   "metadata": {},
   "outputs": [
    {
     "data": {
      "text/plain": [
       "0.7496902106567535"
      ]
     },
     "execution_count": 40,
     "metadata": {},
     "output_type": "execute_result"
    }
   ],
   "source": [
    "MultinomialNB_clf.score(X_train,y_train)"
   ]
  },
  {
   "cell_type": "code",
   "execution_count": 39,
   "metadata": {},
   "outputs": [
    {
     "data": {
      "text/plain": [
       "0.7821782178217822"
      ]
     },
     "execution_count": 39,
     "metadata": {},
     "output_type": "execute_result"
    }
   ],
   "source": [
    "MultinomialNB_clf.score(X_test,y_test)"
   ]
  },
  {
   "cell_type": "code",
   "execution_count": 41,
   "metadata": {},
   "outputs": [
    {
     "data": {
      "text/plain": [
       "MultinomialNB(alpha=1.0, class_prior=None, fit_prior=True)"
      ]
     },
     "execution_count": 41,
     "metadata": {},
     "output_type": "execute_result"
    }
   ],
   "source": [
    "MultinomialNB_clf"
   ]
  },
  {
   "cell_type": "code",
   "execution_count": 43,
   "metadata": {},
   "outputs": [],
   "source": [
    "# Dicision Tree Classifier\n",
    "DecisionTreeClassifier_clf = DecisionTreeClassifier()\n",
    "DecisionTreeClassifier_clf = DecisionTreeClassifier_clf.fit(X_train,y_train)\n"
   ]
  },
  {
   "cell_type": "code",
   "execution_count": 44,
   "metadata": {},
   "outputs": [
    {
     "data": {
      "text/plain": [
       "0.7509293680297398"
      ]
     },
     "execution_count": 44,
     "metadata": {},
     "output_type": "execute_result"
    }
   ],
   "source": [
    "DecisionTreeClassifier_clf.score(X_train,y_train)"
   ]
  },
  {
   "cell_type": "code",
   "execution_count": 45,
   "metadata": {},
   "outputs": [
    {
     "data": {
      "text/plain": [
       "0.7821782178217822"
      ]
     },
     "execution_count": 45,
     "metadata": {},
     "output_type": "execute_result"
    }
   ],
   "source": [
    "DecisionTreeClassifier_clf.score(X_test,y_test)"
   ]
  },
  {
   "cell_type": "code",
   "execution_count": 46,
   "metadata": {},
   "outputs": [
    {
     "data": {
      "text/plain": [
       "DecisionTreeClassifier(class_weight=None, criterion='gini', max_depth=None,\n",
       "                       max_features=None, max_leaf_nodes=None,\n",
       "                       min_impurity_decrease=0.0, min_impurity_split=None,\n",
       "                       min_samples_leaf=1, min_samples_split=2,\n",
       "                       min_weight_fraction_leaf=0.0, presort=False,\n",
       "                       random_state=None, splitter='best')"
      ]
     },
     "execution_count": 46,
     "metadata": {},
     "output_type": "execute_result"
    }
   ],
   "source": [
    "DecisionTreeClassifier_clf"
   ]
  },
  {
   "cell_type": "code",
   "execution_count": 48,
   "metadata": {},
   "outputs": [
    {
     "name": "stderr",
     "output_type": "stream",
     "text": [
      "C:\\ProgramData\\Anaconda3\\lib\\site-packages\\sklearn\\linear_model\\logistic.py:432: FutureWarning: Default solver will be changed to 'lbfgs' in 0.22. Specify a solver to silence this warning.\n",
      "  FutureWarning)\n"
     ]
    },
    {
     "data": {
      "text/plain": [
       "LogisticRegression(C=1.0, class_weight=None, dual=False, fit_intercept=True,\n",
       "                   intercept_scaling=1, l1_ratio=None, max_iter=100,\n",
       "                   multi_class='warn', n_jobs=None, penalty='l2',\n",
       "                   random_state=None, solver='warn', tol=0.0001, verbose=0,\n",
       "                   warm_start=False)"
      ]
     },
     "execution_count": 48,
     "metadata": {},
     "output_type": "execute_result"
    }
   ],
   "source": [
    "from sklearn.linear_model import LogisticRegression\n",
    "logreg_clf = LogisticRegression()\n",
    "logreg_clf.fit(X_train,y_train)\n"
   ]
  },
  {
   "cell_type": "code",
   "execution_count": 49,
   "metadata": {},
   "outputs": [
    {
     "data": {
      "text/plain": [
       "0.7496902106567535"
      ]
     },
     "execution_count": 49,
     "metadata": {},
     "output_type": "execute_result"
    }
   ],
   "source": [
    "logreg_clf.score(X_train,y_train)"
   ]
  },
  {
   "cell_type": "code",
   "execution_count": 50,
   "metadata": {},
   "outputs": [
    {
     "data": {
      "text/plain": [
       "0.7821782178217822"
      ]
     },
     "execution_count": 50,
     "metadata": {},
     "output_type": "execute_result"
    }
   ],
   "source": [
    "logreg_clf.score(X_test,y_test)"
   ]
  },
  {
   "cell_type": "code",
   "execution_count": 51,
   "metadata": {},
   "outputs": [
    {
     "data": {
      "text/plain": [
       "LogisticRegression(C=1.0, class_weight=None, dual=False, fit_intercept=True,\n",
       "                   intercept_scaling=1, l1_ratio=None, max_iter=100,\n",
       "                   multi_class='warn', n_jobs=None, penalty='l2',\n",
       "                   random_state=None, solver='warn', tol=0.0001, verbose=0,\n",
       "                   warm_start=False)"
      ]
     },
     "execution_count": 51,
     "metadata": {},
     "output_type": "execute_result"
    }
   ],
   "source": [
    "logreg_clf"
   ]
  },
  {
   "cell_type": "code",
   "execution_count": 53,
   "metadata": {},
   "outputs": [
    {
     "name": "stderr",
     "output_type": "stream",
     "text": [
      "C:\\ProgramData\\Anaconda3\\lib\\site-packages\\sklearn\\svm\\base.py:193: FutureWarning: The default value of gamma will change from 'auto' to 'scale' in version 0.22 to account better for unscaled features. Set gamma explicitly to 'auto' or 'scale' to avoid this warning.\n",
      "  \"avoid this warning.\", FutureWarning)\n"
     ]
    },
    {
     "data": {
      "text/plain": [
       "SVC(C=1.0, cache_size=200, class_weight=None, coef0=0.0,\n",
       "    decision_function_shape='ovr', degree=3, gamma='auto_deprecated',\n",
       "    kernel='rbf', max_iter=-1, probability=False, random_state=None,\n",
       "    shrinking=True, tol=0.001, verbose=False)"
      ]
     },
     "execution_count": 53,
     "metadata": {},
     "output_type": "execute_result"
    }
   ],
   "source": [
    "from sklearn.svm import SVC\n",
    "from sklearn.metrics import confusion_matrix\n",
    "SVC_model = SVC()\n",
    "SVC_model.fit(X_train,y_train)\n",
    "#prediction = SVC_model.predict(test[[\"Vowel/Consonant End\", \"Short/Long Name\", \"Vowel/Consonant Start\"]])\n",
    "#accuracy_score(test[\"Gender Value\"], prediction)\n"
   ]
  },
  {
   "cell_type": "code",
   "execution_count": 54,
   "metadata": {},
   "outputs": [
    {
     "data": {
      "text/plain": [
       "0.7496902106567535"
      ]
     },
     "execution_count": 54,
     "metadata": {},
     "output_type": "execute_result"
    }
   ],
   "source": [
    "SVC_model.score(X_train,y_train)"
   ]
  },
  {
   "cell_type": "code",
   "execution_count": 55,
   "metadata": {},
   "outputs": [
    {
     "data": {
      "text/plain": [
       "0.7821782178217822"
      ]
     },
     "execution_count": 55,
     "metadata": {},
     "output_type": "execute_result"
    }
   ],
   "source": [
    "SVC_model.score(X_test,y_test)"
   ]
  },
  {
   "cell_type": "code",
   "execution_count": 49,
   "metadata": {},
   "outputs": [
    {
     "data": {
      "text/plain": [
       "SVC(C=1.0, cache_size=200, class_weight=None, coef0=0.0,\n",
       "    decision_function_shape='ovr', degree=3, gamma='auto_deprecated',\n",
       "    kernel='rbf', max_iter=-1, probability=False, random_state=None,\n",
       "    shrinking=True, tol=0.001, verbose=False)"
      ]
     },
     "execution_count": 49,
     "metadata": {},
     "output_type": "execute_result"
    }
   ],
   "source": [
    "SVC_model"
   ]
  },
  {
   "cell_type": "code",
   "execution_count": 57,
   "metadata": {},
   "outputs": [
    {
     "data": {
      "text/plain": [
       "KNeighborsClassifier(algorithm='auto', leaf_size=30, metric='minkowski',\n",
       "                     metric_params=None, n_jobs=None, n_neighbors=25, p=2,\n",
       "                     weights='uniform')"
      ]
     },
     "execution_count": 57,
     "metadata": {},
     "output_type": "execute_result"
    }
   ],
   "source": [
    "from sklearn.neighbors import KNeighborsClassifier\n",
    "from sklearn.metrics import classification_report\n",
    "KNN_model = KNeighborsClassifier(n_neighbors=25)\n",
    "KNN_model.fit(X_train,y_train)\n",
    "#predictions = KNN_model.predict(test[[\"Vowel/Consonant End\", \"Short/Long Name\", \"Vowel/Consonant Start\"]])\n",
    "#accuracy_score(test[\"Gender Value\"], predictions)\n"
   ]
  },
  {
   "cell_type": "code",
   "execution_count": 58,
   "metadata": {},
   "outputs": [
    {
     "data": {
      "text/plain": [
       "0.748451053283767"
      ]
     },
     "execution_count": 58,
     "metadata": {},
     "output_type": "execute_result"
    }
   ],
   "source": [
    "KNN_model.score(X_train,y_train)"
   ]
  },
  {
   "cell_type": "code",
   "execution_count": 59,
   "metadata": {},
   "outputs": [
    {
     "data": {
      "text/plain": [
       "0.7376237623762376"
      ]
     },
     "execution_count": 59,
     "metadata": {},
     "output_type": "execute_result"
    }
   ],
   "source": [
    "KNN_model.score(X_test,y_test)"
   ]
  },
  {
   "cell_type": "code",
   "execution_count": 60,
   "metadata": {},
   "outputs": [
    {
     "data": {
      "text/plain": [
       "KNeighborsClassifier(algorithm='auto', leaf_size=30, metric='minkowski',\n",
       "                     metric_params=None, n_jobs=None, n_neighbors=25, p=2,\n",
       "                     weights='uniform')"
      ]
     },
     "execution_count": 60,
     "metadata": {},
     "output_type": "execute_result"
    }
   ],
   "source": [
    "KNN_model"
   ]
  },
  {
   "cell_type": "code",
   "execution_count": 61,
   "metadata": {},
   "outputs": [
    {
     "name": "stdout",
     "output_type": "stream",
     "text": [
      "[0.7574257425742574, 0.6386138613861386, 0.7376237623762376, 0.5346534653465347, 0.6188118811881188, 0.6188118811881188, 0.6188118811881188, 0.6188118811881188, 0.6188118811881188, 0.6188118811881188, 0.6188118811881188, 0.6188118811881188, 0.7376237623762376, 0.6188118811881188, 0.6188118811881188, 0.6633663366336634, 0.7821782178217822, 0.7821782178217822, 0.7376237623762376, 0.7821782178217822, 0.7376237623762376, 0.7376237623762376, 0.7376237623762376, 0.7376237623762376, 0.7376237623762376]\n"
     ]
    }
   ],
   "source": [
    "# try K=1 through K=25 and record testing accuracy\n",
    "from sklearn import metrics\n",
    "k_range = range(1, 26)\n",
    "\n",
    "# We can create Python dictionary using [] or dict()\n",
    "scores = []\n",
    "\n",
    "# We use a loop through the range 1 to 26\n",
    "# We append the scores in the dictionary\n",
    "for k in k_range:\n",
    "    knn = KNeighborsClassifier(n_neighbors=k)\n",
    "    knn.fit(X_train,y_train)\n",
    "    y_pred = knn.predict(X_test)\n",
    "    scores.append(metrics.accuracy_score(y_test, y_pred))\n",
    "\n",
    "print(scores)"
   ]
  },
  {
   "cell_type": "code",
   "execution_count": 62,
   "metadata": {},
   "outputs": [
    {
     "data": {
      "text/plain": [
       "Text(0, 0.5, 'Testing Accuracy')"
      ]
     },
     "execution_count": 62,
     "metadata": {},
     "output_type": "execute_result"
    },
    {
     "data": {
      "image/png": "[encoded data removed]",
      "text/plain": [
       "<Figure size 432x288 with 1 Axes>"
      ]
     },
     "metadata": {
      "needs_background": "light"
     },
     "output_type": "display_data"
    }
   ],
   "source": [
    "# import Matplotlib (scientific plotting library)\n",
    "import matplotlib.pyplot as plt\n",
    "\n",
    "# allow plots to appear within the notebook\n",
    "%matplotlib inline\n",
    "\n",
    "# plot the relationship between K and testing accuracy\n",
    "# plt.plot(x_axis, y_axis)\n",
    "plt.plot(k_range, scores)\n",
    "plt.xlabel('Value of K for KNN')\n",
    "plt.ylabel('Testing Accuracy')"
   ]
  },
  {
   "cell_type": "code",
   "execution_count": 64,
   "metadata": {},
   "outputs": [
    {
     "data": {
      "text/plain": [
       "LinearDiscriminantAnalysis(n_components=None, priors=None, shrinkage=None,\n",
       "                           solver='svd', store_covariance=False, tol=0.0001)"
      ]
     },
     "execution_count": 64,
     "metadata": {},
     "output_type": "execute_result"
    }
   ],
   "source": [
    "from sklearn.discriminant_analysis import LinearDiscriminantAnalysis\n",
    "lda_clf = LinearDiscriminantAnalysis()\n",
    "lda_clf.fit(X_train,y_train)\n"
   ]
  },
  {
   "cell_type": "code",
   "execution_count": 65,
   "metadata": {},
   "outputs": [
    {
     "data": {
      "text/plain": [
       "0.7496902106567535"
      ]
     },
     "execution_count": 65,
     "metadata": {},
     "output_type": "execute_result"
    }
   ],
   "source": [
    "lda_clf.score(X_train,y_train)"
   ]
  },
  {
   "cell_type": "code",
   "execution_count": 66,
   "metadata": {},
   "outputs": [
    {
     "data": {
      "text/plain": [
       "0.7821782178217822"
      ]
     },
     "execution_count": 66,
     "metadata": {},
     "output_type": "execute_result"
    }
   ],
   "source": [
    "lda_clf.score(X_test,y_test)"
   ]
  },
  {
   "cell_type": "code",
   "execution_count": 67,
   "metadata": {},
   "outputs": [
    {
     "data": {
      "text/plain": [
       "LinearDiscriminantAnalysis(n_components=None, priors=None, shrinkage=None,\n",
       "                           solver='svd', store_covariance=False, tol=0.0001)"
      ]
     },
     "execution_count": 67,
     "metadata": {},
     "output_type": "execute_result"
    }
   ],
   "source": [
    "lda_clf"
   ]
  },
  {
   "cell_type": "code",
   "execution_count": 68,
   "metadata": {},
   "outputs": [
    {
     "data": {
      "text/plain": [
       "GaussianNB(priors=None, var_smoothing=1e-09)"
      ]
     },
     "execution_count": 68,
     "metadata": {},
     "output_type": "execute_result"
    }
   ],
   "source": [
    "from sklearn.naive_bayes import GaussianNB\n",
    "gnb_clf = GaussianNB()\n",
    "\n",
    "gnb_clf.fit(X_train,y_train)\n"
   ]
  },
  {
   "cell_type": "code",
   "execution_count": 69,
   "metadata": {},
   "outputs": [
    {
     "data": {
      "text/plain": [
       "0.7496902106567535"
      ]
     },
     "execution_count": 69,
     "metadata": {},
     "output_type": "execute_result"
    }
   ],
   "source": [
    "gnb_clf.score(X_train,y_train)"
   ]
  },
  {
   "cell_type": "code",
   "execution_count": 70,
   "metadata": {},
   "outputs": [
    {
     "data": {
      "text/plain": [
       "0.7821782178217822"
      ]
     },
     "execution_count": 70,
     "metadata": {},
     "output_type": "execute_result"
    }
   ],
   "source": [
    "gnb_clf.score(X_test,y_test)"
   ]
  },
  {
   "cell_type": "code",
   "execution_count": 71,
   "metadata": {},
   "outputs": [
    {
     "data": {
      "text/plain": [
       "GaussianNB(priors=None, var_smoothing=1e-09)"
      ]
     },
     "execution_count": 71,
     "metadata": {},
     "output_type": "execute_result"
    }
   ],
   "source": [
    "gnb_clf"
   ]
  },
  {
   "cell_type": "code",
   "execution_count": 51,
   "metadata": {},
   "outputs": [
    {
     "data": {
      "image/png": "[encoded data removed]",
      "text/plain": [
       "<Figure size 432x288 with 1 Axes>"
      ]
     },
     "metadata": {
      "needs_background": "light"
     },
     "output_type": "display_data"
    }
   ],
   "source": [
    "\n",
    "\n",
    "\n",
    "import numpy as np\n",
    "import matplotlib.pyplot as plt\n",
    "\n",
    "N = 7\n",
    "Testscore = (80.19,80.19,78.71,80.19,80.19,84.73,78.12)\n",
    "#MenMeans = (32,662)\n",
    "menStd = (1,1,1,1,1,1,1)\n",
    "womenStd = (6, 3)\n",
    "ind = np.arange(N)    # the x locations for the groups\n",
    "width = 0.35       # the width of the bars: can also be len(x) sequence\n",
    "\n",
    "p1 = plt.bar(ind, Testscore, width, yerr=menStd)\n",
    "#p2 = plt.bar(ind, womenMeans, width,bottom=MenMeans, yerr=womenStd)\n",
    "\n",
    "\n",
    "plt.ylabel('Accuracy')\n",
    "plt.title('Classifier Test Accuracy')\n",
    "plt.xticks(ind, ('GNB', 'LDA','KNN','SVM','LR','DT','MNB'))\n",
    "#plt.yticks(np.arange(0, 81, 10))\n",
    "#plt.legend((p1[0], p2[0]), ('Men', 'Women'))\n",
    "\n",
    "plt.show()"
   ]
  },
  {
   "cell_type": "code",
   "execution_count": 46,
   "metadata": {},
   "outputs": [],
   "source": [
    "with open(\"decidenamesB.dot\", \"w\") as dot_file:\n",
    "    dot_file = export_graphviz(DecisionTreeClassifier_clf,\n",
    "                            feature_names=[\"Vowel/Consonant End\", \"Short/Long Name\", \"Vowel/Consonant Start\",\"\"], out_file=dot_file)"
   ]
  },
  {
   "cell_type": "code",
   "execution_count": 54,
   "metadata": {},
   "outputs": [
    {
     "data": {
      "image/png": "[encoded data removed]",
      "text/plain": [
       "<Figure size 432x288 with 1 Axes>"
      ]
     },
     "metadata": {
      "needs_background": "light"
     },
     "output_type": "display_data"
    }
   ],
   "source": [
    "import numpy as np\n",
    "import matplotlib.pyplot as plt\n",
    "\n",
    "N = 7\n",
    "Testscore = (80.19,80.19,78.71,80.19,80.19,84.73,78.12)\n",
    "TrainMeans = (76.97,76.97,78.09,76.97,76.97,81.09,74.97)\n",
    "menStd = (1,1,1,1,1,1,1)\n",
    "womenStd = (1, 1,1,1,1,1,1)\n",
    "ind = np.arange(N)    # the x locations for the groups\n",
    "width = 0.35       # the width of the bars: can also be len(x) sequence\n",
    "\n",
    "p1 = plt.bar(ind, Testscore, width, yerr=menStd)\n",
    "p2 = plt.bar(ind, TrainMeans, width,bottom=Testscore, yerr=womenStd)\n",
    "\n",
    "\n",
    "plt.ylabel('Accuracy')\n",
    "plt.title('Classifier Test Accuracy of American Names')\n",
    "plt.xticks(ind, ('GNB','LDA','KNN','SVM','LR','DT','MNB'))\n",
    "#plt.yticks(np.arange(0, 81, 10))\n",
    "plt.legend((p1[0], p2[0]), ('Test', 'Train'))\n",
    "\n",
    "plt.show()"
   ]
  },
  {
   "cell_type": "code",
   "execution_count": null,
   "metadata": {},
   "outputs": [],
   "source": []
  }
 ],
 "metadata": {
  "kernelspec": {
   "display_name": "Python 3",
   "language": "python",
   "name": "python3"
  },
  "language_info": {
   "codemirror_mode": {
    "name": "ipython",
    "version": 3
   },
   "file_extension": ".py",
   "mimetype": "text/x-python",
   "name": "python",
   "nbconvert_exporter": "python",
   "pygments_lexer": "ipython3",
   "version": "3.7.4"
  }
 },
 "nbformat": 4,
 "nbformat_minor": 2
}
