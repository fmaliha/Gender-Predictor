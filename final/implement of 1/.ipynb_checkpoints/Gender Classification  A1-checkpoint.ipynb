{
 "cells": [
  {
   "cell_type": "code",
   "execution_count": null,
   "metadata": {},
   "outputs": [],
   "source": [
    "from pandas import pandas as pd\n",
    "import numpy as np\n",
    "from sklearn.model_selection import train_test_split\n",
    "from sklearn.tree import DecisionTreeClassifier\n",
    "from sklearn.metrics import accuracy_score\n",
    "from sklearn.tree import DecisionTreeClassifier, export_graphviz\n",
    "from sklearn.feature_extraction.text import CountVectorizer\n",
    "from sklearn.feature_extraction import DictVectorizer"
   ]
  },
  {
   "cell_type": "code",
   "execution_count": null,
   "metadata": {},
   "outputs": [],
   "source": [
    "df = pd.read_csv('NationalNames.csv')\n",
    "print (\"%d names in dataset\" %len(df))\n",
    "df = df.drop_duplicates(subset=\"Name\")\n",
    "df.head(10)\n"
   ]
  },
  {
   "cell_type": "code",
   "execution_count": null,
   "metadata": {},
   "outputs": [],
   "source": [
    "print (df[df.Gender == 'F'].count())"
   ]
  },
  {
   "cell_type": "code",
   "execution_count": null,
   "metadata": {},
   "outputs": [],
   "source": [
    "print (df[df.Gender == 'M'].count())"
   ]
  },
  {
   "cell_type": "code",
   "execution_count": null,
   "metadata": {},
   "outputs": [],
   "source": [
    "Xfeatures =df['Name']\n",
    "cv = CountVectorizer()\n",
    "X = cv.fit_transform(Xfeatures)\n",
    "# Labels\n",
    "y = df.Gender\n"
   ]
  },
  {
   "cell_type": "code",
   "execution_count": null,
   "metadata": {},
   "outputs": [],
   "source": [
    "X_train, X_test, y_train, y_test = train_test_split(X, y, test_size=0.20)"
   ]
  },
  {
   "cell_type": "code",
   "execution_count": null,
   "metadata": {},
   "outputs": [],
   "source": [
    "# Naive Bayes Classifier\n",
    "from sklearn.naive_bayes import MultinomialNB\n",
    "clf = MultinomialNB()\n",
    "clf.fit(X_train,y_train)\n"
   ]
  },
  {
   "cell_type": "code",
   "execution_count": null,
   "metadata": {},
   "outputs": [],
   "source": [
    "clf.score(X_train,y_train)"
   ]
  },
  {
   "cell_type": "code",
   "execution_count": null,
   "metadata": {},
   "outputs": [],
   "source": [
    "clf.score(X_test,y_test)"
   ]
  },
  {
   "cell_type": "code",
   "execution_count": null,
   "metadata": {},
   "outputs": [],
   "source": [
    "# Check if the name ends in vowel\n",
    "def checkVowelEnd(name):\n",
    "    if name[-1] in \"aeiou\":\n",
    "        return \"Vowel End\"\n",
    "    return \"Consonant End\""
   ]
  },
  {
   "cell_type": "code",
   "execution_count": null,
   "metadata": {},
   "outputs": [],
   "source": [
    "df[\"Vowel/Consonant End\"] = df[\"Name\"].apply(checkVowelEnd)\n",
    "df.head()"
   ]
  },
  {
   "cell_type": "code",
   "execution_count": null,
   "metadata": {},
   "outputs": [],
   "source": [
    "def checkGender(gender):\n",
    "    if gender == \"F\":\n",
    "        return 0\n",
    "    else:\n",
    "        return 1\n",
    "    \n",
    "df[\"Gender Value\"] = df[\"Gender\"].apply(checkGender)\n",
    "\n",
    "df.head(-20)\n",
    "#df.count"
   ]
  },
  {
   "cell_type": "code",
   "execution_count": null,
   "metadata": {},
   "outputs": [],
   "source": [
    "def compare(group):\n",
    "    return df.groupby([group])[\"Gender Value\"].sum()*100/df.groupby([group])[\"Gender Value\"].count()"
   ]
  },
  {
   "cell_type": "code",
   "execution_count": null,
   "metadata": {},
   "outputs": [],
   "source": [
    "# df.groupby([\"Vowel/Consonant End\"])['Gender Value'].count()\n",
    "# df.head()\n",
    "g=df.groupby(['Vowel/Consonant End','Gender Value'])\n",
    "g.head()"
   ]
  },
  {
   "cell_type": "code",
   "execution_count": null,
   "metadata": {},
   "outputs": [],
   "source": [
    "print (len(df))\n",
    "# > 93889 = 43635 + 50254"
   ]
  },
  {
   "cell_type": "code",
   "execution_count": null,
   "metadata": {},
   "outputs": [],
   "source": [
    "#female_names = sum(df.groupby([\"Vowel/Consonant End\"])[\"Gender Value\"].sum())\n",
    "female_names =( df.groupby(['Vowel/Consonant End','Gender Value'])).size()\n",
    "\n",
    "all_names = df.groupby([\"Gender\"])[\"Gender Value\"].count()\n",
    "print (female_names)\n",
    "#print (all_names)\n",
    "# print (\"\\nBoth are equal? %s\" % str(female_names == all_names[\"F\"]))"
   ]
  },
  {
   "cell_type": "code",
   "execution_count": null,
   "metadata": {},
   "outputs": [],
   "source": [
    "print(df.groupby([\"Vowel/Consonant End\"])[\"Gender Value\"].sum()*100/df.groupby([\"Vowel/Consonant End\"])[\"Gender Value\"].count())"
   ]
  },
  {
   "cell_type": "code",
   "execution_count": null,
   "metadata": {},
   "outputs": [],
   "source": [
    "print(compare(\"Vowel/Consonant End\"))"
   ]
  },
  {
   "cell_type": "code",
   "execution_count": null,
   "metadata": {},
   "outputs": [],
   "source": [
    "def vowelConsonantstart(name):\n",
    "    if name[0] in \"aeiou\":\n",
    "        return \"vowel start\"\n",
    "    else:\n",
    "        return \"consonant Start\"\n",
    "        \n",
    "df[\"Vowel/Consonant Start\"] = df[\"Name\"].apply(vowelConsonantstart)\n",
    "names =( df.groupby(['Vowel/Consonant Start','Gender Value'])).size()\n",
    "print(names)\n",
    "#print(\"\\n Comparison => %s\", compare(\"Vowel/Consonant Start\"))\n",
    "df.head()"
   ]
  },
  {
   "cell_type": "code",
   "execution_count": null,
   "metadata": {},
   "outputs": [],
   "source": [
    "def shortLongName(name):\n",
    "    if len(name) < 7:\n",
    "        return \"Short\"\n",
    "    else:\n",
    "        return \"Long\"\n",
    "\n",
    "df[\"Short/Long Name\"] = df[\"Name\"].apply(shortLongName)\n",
    "longshort_name =( df.groupby(['Short/Long Name','Gender Value'])).size()\n",
    "print(longshort_name)\n",
    "#print(compare(\"Short/Long Name\"))\n",
    "df.head()"
   ]
  },
  {
   "cell_type": "code",
   "execution_count": null,
   "metadata": {},
   "outputs": [],
   "source": [
    "# By Analogy most female names ends in 'A' or 'E' or has the sound of 'A'\n",
    "def features(name):\n",
    "    name = name.lower()\n",
    "    return {\n",
    "        'first-letter'  : name[0], # First letter\n",
    "        'first2-letters': name[0:2], # First 2 letters\n",
    "        'first3-letters': name[0:3], # First 3 letters\n",
    "        'last-letter'   : name[-1],\n",
    "        'last2-letters' : name[-2:],\n",
    "        'last3-letters' : name[-3:],\n",
    "    }"
   ]
  },
  {
   "cell_type": "code",
   "execution_count": null,
   "metadata": {},
   "outputs": [],
   "source": [
    "df[\"features\"] = df[\"Name\"].apply(features)\n",
    "df.head()"
   ]
  },
  {
   "cell_type": "code",
   "execution_count": null,
   "metadata": {},
   "outputs": [],
   "source": [
    "def checkfeature(name):\n",
    "    if name[-1] in \"a,e\":\n",
    "        return \"a\"\n",
    "    return \"b\"\n",
    "df[\"Feature End\"] = df[\"Name\"].apply(checkfeature)\n",
    "df.head(-20)"
   ]
  },
  {
   "cell_type": "code",
   "execution_count": null,
   "metadata": {},
   "outputs": [],
   "source": [
    "g=df.groupby(['Feature End','Gender'])\n",
    "g.head()"
   ]
  },
  {
   "cell_type": "code",
   "execution_count": null,
   "metadata": {},
   "outputs": [],
   "source": [
    "names =(df.groupby(['Feature End','Gender'])).size()\n",
    "#female_names =(df.groupby(['features','Gender Value'])).count()\n",
    "\n",
    "#all_names = df.groupby([\"Gender\"])[\"Gender Value\"].count()\n",
    "print (names)"
   ]
  },
  {
   "cell_type": "code",
   "execution_count": null,
   "metadata": {},
   "outputs": [],
   "source": [
    "#df.info()\n",
    "# training_data = df[['Gender Value', 'Vowel/Consonant Start', 'Short/Long Name', 'Vowel/Consonant End']]\n",
    "# training_data.head()\n",
    "X= df[['Vowel/Consonant Start', 'Short/Long Name', 'Vowel/Consonant End','Feature End']]\n",
    "y= df ['Gender Value']\n",
    "#X.head()\n",
    "#y.head()"
   ]
  },
  {
   "cell_type": "code",
   "execution_count": null,
   "metadata": {},
   "outputs": [],
   "source": [
    "def reprCategory(column):\n",
    "    column = column.astype(\"category\")\n",
    "    return column.cat.codes\n",
    "    \n",
    "# training_data[[\"Vowel/Consonant End\", \"Short/Long Name\", \"Vowel/Consonant Start\"]] = training_data[[\"Vowel/Consonant End\", \"Short/Long Name\", \"Vowel/Consonant Start\"]].apply(reprCategory)\n",
    "# training_data.info()\n",
    "#len(training_data)\n",
    "\n",
    "X[[\"Vowel/Consonant End\", \"Short/Long Name\", \"Vowel/Consonant Start\",\"Feature End\"]] = X[[\"Vowel/Consonant End\", \"Short/Long Name\", \"Vowel/Consonant Start\",\"Feature End\"]].apply(reprCategory)\n",
    "#training_data.head()\n",
    "X.head()\n"
   ]
  },
  {
   "cell_type": "code",
   "execution_count": null,
   "metadata": {},
   "outputs": [],
   "source": [
    "X_train,X_test,y_train,y_test = train_test_split(X,y, test_size = 0.20)"
   ]
  },
  {
   "cell_type": "code",
   "execution_count": null,
   "metadata": {},
   "outputs": [],
   "source": [
    "# train, test = train_test_split(training_data, test_size = 0.20)"
   ]
  },
  {
   "cell_type": "code",
   "execution_count": null,
   "metadata": {},
   "outputs": [],
   "source": [
    "len(X_train)"
   ]
  },
  {
   "cell_type": "code",
   "execution_count": null,
   "metadata": {},
   "outputs": [],
   "source": [
    "len(y_train)"
   ]
  },
  {
   "cell_type": "code",
   "execution_count": null,
   "metadata": {},
   "outputs": [],
   "source": [
    "len(X_test)"
   ]
  },
  {
   "cell_type": "code",
   "execution_count": null,
   "metadata": {},
   "outputs": [],
   "source": [
    "len(y_test)"
   ]
  },
  {
   "cell_type": "code",
   "execution_count": null,
   "metadata": {},
   "outputs": [],
   "source": [
    "clf = DecisionTreeClassifier()"
   ]
  },
  {
   "cell_type": "code",
   "execution_count": null,
   "metadata": {},
   "outputs": [],
   "source": [
    "clf.fit(X_train,y_train)\n"
   ]
  },
  {
   "cell_type": "code",
   "execution_count": null,
   "metadata": {},
   "outputs": [],
   "source": [
    "clf.score(X_train,y_train)"
   ]
  },
  {
   "cell_type": "code",
   "execution_count": null,
   "metadata": {},
   "outputs": [],
   "source": [
    "clf.score(X_test,y_test)"
   ]
  },
  {
   "cell_type": "code",
   "execution_count": null,
   "metadata": {},
   "outputs": [],
   "source": [
    "clf.predict(X_test)"
   ]
  },
  {
   "cell_type": "code",
   "execution_count": null,
   "metadata": {},
   "outputs": [],
   "source": [
    "y_test"
   ]
  },
  {
   "cell_type": "code",
   "execution_count": null,
   "metadata": {},
   "outputs": [],
   "source": [
    "from sklearn.externals.six import StringIO  \n",
    "from IPython.display import Image  \n",
    "from sklearn.tree import export_graphviz\n",
    "import pydotplus\n",
    "dot_data = StringIO()\n",
    "export_graphviz(clf, out_file=dot_data,  \n",
    "                filled=True, rounded=True,\n",
    "                special_characters=True)\n",
    "graph = pydotplus.graph_from_dot_data(dot_data.getvalue())  \n",
    "Image(graph.create_png())"
   ]
  },
  {
   "cell_type": "code",
   "execution_count": null,
   "metadata": {},
   "outputs": [],
   "source": [
    " clf"
   ]
  },
  {
   "cell_type": "code",
   "execution_count": null,
   "metadata": {},
   "outputs": [],
   "source": [
    "clf.feature_importances_"
   ]
  },
  {
   "cell_type": "code",
   "execution_count": null,
   "metadata": {},
   "outputs": [],
   "source": [
    "from sklearn.naive_bayes import MultinomialNB\n",
    "nbclf = MultinomialNB()\n",
    "nbclf.fit(X_train,y_train)\n",
    "#nbclf.score(dv.transform(X_train),y_train)"
   ]
  },
  {
   "cell_type": "code",
   "execution_count": null,
   "metadata": {},
   "outputs": [],
   "source": [
    "nbclf"
   ]
  },
  {
   "cell_type": "code",
   "execution_count": null,
   "metadata": {},
   "outputs": [],
   "source": [
    "nbclf.score(X_train,y_train)"
   ]
  },
  {
   "cell_type": "code",
   "execution_count": null,
   "metadata": {},
   "outputs": [],
   "source": [
    "nbclf.score(X_test,y_test)"
   ]
  },
  {
   "cell_type": "code",
   "execution_count": null,
   "metadata": {},
   "outputs": [],
   "source": [
    "#predictions = clf.predict(X_test,y_test[[\"Vowel/Consonant End\", \"Short/Long Name\", \"Vowel/Consonant Start\",\"Feature End\"]])\n",
    "# accuracy_score(X_test,y_test[\"Gender Value\"], predictions)"
   ]
  },
  {
   "cell_type": "code",
   "execution_count": null,
   "metadata": {},
   "outputs": [],
   "source": [
    "with open(\"decidenamesE.dot\", \"w\") as dot_file:\n",
    "    dot_file = export_graphviz(clf,\n",
    "                            feature_names=[\"Vowel/Consonant End\", \"Short/Long Name\", \"Vowel/Consonant Start\",\"Feature End\"], out_file=dot_file)"
   ]
  },
  {
   "cell_type": "code",
   "execution_count": null,
   "metadata": {},
   "outputs": [],
   "source": []
  },
  {
   "cell_type": "code",
   "execution_count": null,
   "metadata": {},
   "outputs": [],
   "source": []
  }
 ],
 "metadata": {
  "kernelspec": {
   "display_name": "Python 3",
   "language": "python",
   "name": "python3"
  },
  "language_info": {
   "codemirror_mode": {
    "name": "ipython",
    "version": 3
   },
   "file_extension": ".py",
   "mimetype": "text/x-python",
   "name": "python",
   "nbconvert_exporter": "python",
   "pygments_lexer": "ipython3",
   "version": "3.7.4"
  }
 },
 "nbformat": 4,
 "nbformat_minor": 2
}
